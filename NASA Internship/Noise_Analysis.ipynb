{
 "cells": [
  {
   "cell_type": "code",
   "execution_count": 1,
   "metadata": {},
   "outputs": [],
   "source": [
    "import os\n",
    "import time\n",
    "import glob\n",
    "import random\n",
    "\n",
    "import numpy as np\n",
    "import matplotlib.pyplot as plt\n",
    "\n",
    "import tensorflow as tf\n",
    "\n",
    "import keras\n",
    "#from keras.utils import Sequence\n",
    "from tensorflow.keras.utils import Sequence\n",
    "from keras.models import Sequential, Input, Model\n",
    "from keras.layers import Dense\n",
    "from keras.layers import Dropout, Flatten \n",
    "from keras.layers import Conv1D, MaxPooling1D"
   ]
  },
  {
   "cell_type": "markdown",
   "metadata": {},
   "source": [
    "### Configuration variables and path setup"
   ]
  },
  {
   "cell_type": "code",
   "execution_count": 2,
   "metadata": {},
   "outputs": [],
   "source": [
    "testFiles = []\n",
    "#testFile = '/home/narock/notebooks/fluxrope_ml/current/results/testing_files_1D_cnn_npz_full_fluxropes.txt'\n",
    "#testFile = '/efs/jtopper/results/noise_testing_files_1D_cnn_npz_full_fluxropes_Custom_Loss.txt'\n",
    "testFile = '/efs/jtopper/results/noise_custom_Loss.txt'\n",
    "f = open(testFile, \"r\")\n",
    "for line in f:\n",
    "    testFiles.append( line.strip() )\n",
    "f.close()"
   ]
  },
  {
   "cell_type": "markdown",
   "metadata": {},
   "source": [
    "### Load the model"
   ]
  },
  {
   "cell_type": "code",
   "execution_count": 3,
   "metadata": {},
   "outputs": [
    {
     "name": "stderr",
     "output_type": "stream",
     "text": [
      "2022-08-08 16:24:18.794419: I tensorflow/core/platform/cpu_feature_guard.cc:151] This TensorFlow binary is optimized with oneAPI Deep Neural Network Library (oneDNN) to use the following CPU instructions in performance-critical operations:  SSE4.1 SSE4.2 AVX AVX2 AVX512F FMA\n",
      "To enable them in other operations, rebuild TensorFlow with the appropriate compiler flags.\n"
     ]
    }
   ],
   "source": [
    "# This is required for my GPU: GeForce RTX 2060\n",
    "# Without this config, tensorflow cannot properly allocate GPU memory\n",
    "config = tf.compat.v1.ConfigProto()\n",
    "config.gpu_options.allow_growth = True\n",
    "config.gpu_options.per_process_gpu_memory_fraction = 0.90\n",
    "session = tf.compat.v1.Session(config=config)"
   ]
  },
  {
   "cell_type": "code",
   "execution_count": 4,
   "metadata": {},
   "outputs": [],
   "source": [
    "from keras import backend as K\n",
    "from keras.losses import binary_crossentropy\n",
    "\n",
    "def phi_loss():\n",
    "    def mse(y_true, y_pred):\n",
    "\n",
    "        phi_sin = K.mean(K.square(y_pred[:, 0] - y_true[:, 0])) \n",
    "        phi_cos = K.mean(K.square(y_pred[:, 1] - y_true[:, 1])) \n",
    "        theta_sin = K.mean(K.square(y_pred[:, 2] - y_true[:, 2])) \n",
    "        theta_cos = K.mean(K.square(y_pred[:, 3] - y_true[:, 3])) \n",
    "        y0 = K.mean(K.square(y_pred[:, 4] - y_true[:, 4]))\n",
    "        h = binary_crossentropy(y_true[:,5], y_pred[:,5]) \n",
    "\n",
    "        return K.sum(phi_sin + phi_cos + theta_sin + theta_cos + y0 + h)\n",
    "    return mse"
   ]
  },
  {
   "cell_type": "code",
   "execution_count": 5,
   "metadata": {},
   "outputs": [],
   "source": [
    "# define model\n",
    "    \n",
    "input_shape = (50, 3)\n",
    "\n",
    "def get_model(act=\"relu\"):\n",
    "    \n",
    "    inp = Input(input_shape)\n",
    "    x = Conv1D(32, kernel_size=5, activation=act, padding=\"same\")(inp)\n",
    "    x = Conv1D(64, kernel_size=5, activation=act, padding=\"same\")(x)\n",
    "    x = MaxPooling1D(pool_size=2)(x)\n",
    "    x = Dropout(0.1)(x, training=False) # 0.25\n",
    "    x = Flatten()(x)\n",
    "    x = Dense(128, activation=act)(x)\n",
    "    x = Dropout(0.2)(x, training=False) # 0.50\n",
    "    out = Dense(6, activation=\"tanh\")(x)\n",
    "    \n",
    "    \"\"\"out1 = Dense(2, name=\"phi\", activation=\"tanh\")(x)\n",
    "    out2 = Dense(2, name=\"theta\", activation=\"tanh\")(x)\n",
    "    out3 = Dense(1, name=\"y0\", activation=act)(x)\n",
    "    out4 = Dense(1, name=\"handedness\", activation='sigmoid')(x)\n",
    "    \n",
    "    losses = {'phi': 'mean_squared_error',\n",
    "              'theta': 'mean_squared_error', \n",
    "              'y0': 'mean_squared_error',\n",
    "              'handedness': 'binary_crossentropy'}\"\"\"\n",
    "\n",
    "    lossWeights = {\"phi\": 1.0, \"theta\": 1.0, \"y0\": 1.0, \"handedness\": 1.0}\n",
    "    \n",
    "    \n",
    "    #model = Model(inputs=inp, outputs=[out1,out2,out3,out4])\n",
    "    model = Model(inputs=inp, outputs=out)\n",
    "\n",
    "    #model.compile(loss=losses, loss_weights=lossWeights, optimizer='adam')\n",
    "    #model.compile(loss=[phi_loss(), phi_loss(), phi_loss(),handedness_loss()], loss_weights=lossWeights, optimizer='adam')\n",
    "    model.compile(loss=phi_loss(), optimizer='adam')\n",
    "    \n",
    "    return model"
   ]
  },
  {
   "cell_type": "code",
   "execution_count": 6,
   "metadata": {
    "scrolled": true
   },
   "outputs": [
    {
     "name": "stdout",
     "output_type": "stream",
     "text": [
      "Model: \"model\"\n",
      "_________________________________________________________________\n",
      " Layer (type)                Output Shape              Param #   \n",
      "=================================================================\n",
      " input_1 (InputLayer)        [(None, 50, 3)]           0         \n",
      "                                                                 \n",
      " conv1d (Conv1D)             (None, 50, 32)            512       \n",
      "                                                                 \n",
      " conv1d_1 (Conv1D)           (None, 50, 64)            10304     \n",
      "                                                                 \n",
      " max_pooling1d (MaxPooling1D  (None, 25, 64)           0         \n",
      " )                                                               \n",
      "                                                                 \n",
      " dropout (Dropout)           (None, 25, 64)            0         \n",
      "                                                                 \n",
      " flatten (Flatten)           (None, 1600)              0         \n",
      "                                                                 \n",
      " dense (Dense)               (None, 128)               204928    \n",
      "                                                                 \n",
      " dropout_1 (Dropout)         (None, 128)               0         \n",
      "                                                                 \n",
      " dense_1 (Dense)             (None, 6)                 774       \n",
      "                                                                 \n",
      "=================================================================\n",
      "Total params: 216,518\n",
      "Trainable params: 216,518\n",
      "Non-trainable params: 0\n",
      "_________________________________________________________________\n"
     ]
    }
   ],
   "source": [
    "# clear out any old models hanging around\n",
    "keras.backend.clear_session()\n",
    "    \n",
    "#savedModel = \"/home/narock/notebooks/fluxrope_ml/current/results/cnn_model_1D_regression_full_fluxropes.h5\"\n",
    "savedModel = '/efs/jtopper/results/noise_custom_Loss.h5'\n",
    "\n",
    "# define model\n",
    "model = get_model()\n",
    "model.load_weights(savedModel)\n",
    "model.summary()"
   ]
  },
  {
   "cell_type": "code",
   "execution_count": 7,
   "metadata": {},
   "outputs": [
    {
     "name": "stdout",
     "output_type": "stream",
     "text": [
      "You must install pydot (`pip install pydot`) and install graphviz (see instructions at https://graphviz.gitlab.io/download/) for plot_model/model_to_dot to work.\n"
     ]
    }
   ],
   "source": [
    "from keras.utils.vis_utils import plot_model\n",
    "plot_model(model, to_file='/home/narock/Desktop/model_vis_1D.png', show_shapes=True, show_layer_names=True)"
   ]
  },
  {
   "cell_type": "markdown",
   "metadata": {},
   "source": [
    "### Analysis"
   ]
  },
  {
   "cell_type": "code",
   "execution_count": 8,
   "metadata": {},
   "outputs": [],
   "source": [
    "def getDifference(a, b, phi=False):\n",
    "\n",
    "    if (phi):\n",
    "    \n",
    "        if ( a > b ):\n",
    "            mx = a\n",
    "            mn = b\n",
    "        else:\n",
    "            mx = b\n",
    "            mn = a\n",
    "    \n",
    "        d1 = mx - mn\n",
    "        d2 = 360 - mx + mn\n",
    "    \n",
    "        return np.min([d1,d2])\n",
    "\n",
    "    else:\n",
    "    \n",
    "        return np.abs(a-b)"
   ]
  },
  {
   "cell_type": "code",
   "execution_count": 9,
   "metadata": {},
   "outputs": [],
   "source": [
    "def getValuesFromFileName(file):\n",
    "    \n",
    "    parts = file.split(\"/\")\n",
    "    file = parts[-1].strip()\n",
    "    parts = file.split(\"_\")\n",
    "    \n",
    "    #['fluxrope', 'cc', 'B10', '10', '50', '65', '1.csv']\n",
    "    del parts[2] #Adjustment made only for noise data, convention purposes\n",
    "    \n",
    "    # B0, phi, theta, y0, H\n",
    "    phiY = float(parts[3]) \n",
    "    thetaY = float(parts[4]) \n",
    "    yY = float(parts[5])\n",
    "    hh = parts[6]\n",
    "    parts = hh.split(\".\")\n",
    "    hY = int(parts[0]) \n",
    "        \n",
    "    return phiY, thetaY, yY, hY"
   ]
  },
  {
   "cell_type": "code",
   "execution_count": 10,
   "metadata": {},
   "outputs": [],
   "source": [
    "def getPredictions( phi, theta, y0, h ):\n",
    "    #print(phi)\n",
    "    #print(theta)\n",
    "    #print(y0)\n",
    "    #print(h)\n",
    "    \n",
    "    sin = phi[0]\n",
    "    cos = phi[1]\n",
    "    phiOut = np.degrees( np.arctan2(sin,cos) )\n",
    "            \n",
    "    # check the quadrant\n",
    "    if ( phiOut < 0. ):\n",
    "        phiOut += 360.\n",
    "            \n",
    "    sin = theta[0]\n",
    "    cos = theta[1]\n",
    "    thetaOut = np.degrees( np.arctan2(sin,cos) )\n",
    "\n",
    "    y0Out = y0[0]\n",
    "    \n",
    "    if (h[0] < 0.5):\n",
    "        hOut = -1.\n",
    "    else:\n",
    "        hOut = 1.\n",
    "        \n",
    "    return phiOut, thetaOut, y0Out, hOut"
   ]
  },
  {
   "cell_type": "code",
   "execution_count": 11,
   "metadata": {},
   "outputs": [],
   "source": [
    "def getAngles(phi, theta):\n",
    "    \n",
    "    sin = phi[0]\n",
    "    cos = phi[1]\n",
    "    phiOut = np.degrees( np.arctan2(sin,cos) )\n",
    "            \n",
    "    # check the quadrant\n",
    "    if ( phiOut < 0. ):\n",
    "        phiOut += 360.\n",
    "            \n",
    "    sin = theta[0]\n",
    "    cos = theta[1]\n",
    "    thetaOut = np.degrees( np.arctan2(sin,cos) )\n",
    "    \n",
    "    return phiOut, thetaOut"
   ]
  },
  {
   "cell_type": "code",
   "execution_count": 12,
   "metadata": {},
   "outputs": [],
   "source": [
    "def smooth(x,window_len=11,window='hanning'):\n",
    "    \"\"\"smooth the data using a window with requested size.\n",
    "    \n",
    "    This method is based on the convolution of a scaled window with the signal.\n",
    "    The signal is prepared by introducing reflected copies of the signal \n",
    "    (with the window size) in both ends so that transient parts are minimized\n",
    "    in the begining and end part of the output signal.\n",
    "    \n",
    "    input:\n",
    "        x: the input signal \n",
    "        window_len: the dimension of the smoothing window; should be an odd integer\n",
    "        window: the type of window from 'flat', 'hanning', 'hamming', 'bartlett', 'blackman'\n",
    "            flat window will produce a moving average smoothing.\n",
    "\n",
    "    output:\n",
    "        the smoothed signal\n",
    "        \n",
    "    example:\n",
    "\n",
    "    t=linspace(-2,2,0.1)\n",
    "    x=sin(t)+randn(len(t))*0.1\n",
    "    y=smooth(x)\n",
    "    \n",
    "    see also: \n",
    "    \n",
    "    numpy.hanning, numpy.hamming, numpy.bartlett, numpy.blackman, numpy.convolve\n",
    "    scipy.signal.lfilter\n",
    " \n",
    "    TODO: the window parameter could be the window itself if an array instead of a string\n",
    "    NOTE: length(output) != length(input), to correct this: return y[(window_len/2-1):-(window_len/2)] \n",
    "        instead of just y.\n",
    "    \"\"\"\n",
    "\n",
    "    if x.ndim != 1:\n",
    "        raise ValueError(\"smooth only accepts 1 dimension arrays.\")\n",
    "\n",
    "    if x.size < window_len:\n",
    "        raise ValueError(\"Input vector needs to be bigger than window size.\")\n",
    "\n",
    "\n",
    "    if window_len<3:\n",
    "        return x\n",
    "\n",
    "\n",
    "    if not window in ['flat', 'hanning', 'hamming', 'bartlett', 'blackman']:\n",
    "        raise ValueError(\"Window is on of 'flat', 'hanning', 'hamming', 'bartlett', 'blackman'\")\n",
    "\n",
    "\n",
    "    s=np.r_[x[window_len-1:0:-1],x,x[-2:-window_len-1:-1]]\n",
    "    #print(len(s))\n",
    "    if window == 'flat': #moving average\n",
    "        w=np.ones(window_len,'d')\n",
    "    else:\n",
    "        w=eval('np.'+window+'(window_len)')\n",
    "\n",
    "    y=np.convolve(w/w.sum(),s,mode='valid')\n",
    "    return y"
   ]
  },
  {
   "cell_type": "code",
   "execution_count": 13,
   "metadata": {},
   "outputs": [],
   "source": [
    "def comparison(inFile):\n",
    "        \n",
    "    npzfile = np.load(inFile)\n",
    "    x = npzfile['x'] # x=x, phi=p, theta=t, y0=y0, h=h, files=files)\n",
    "    phi = npzfile['phi']\n",
    "    theta = npzfile['theta']\n",
    "    y0 = npzfile['y0']\n",
    "    h = npzfile['h']\n",
    "    files = npzfile['files']\n",
    "    \n",
    "    predictions = model.predict(x)\n",
    "    #print(predictions)\n",
    "    \n",
    "    \"\"\"\n",
    "    phiPredictions = predictions[0]\n",
    "    thetaPredictions = predictions[1]\n",
    "    y0Predictions = predictions[2]\n",
    "    hPredictions = predictions[3]\n",
    "    \"\"\"\n",
    "    #Shape predictions for new model output\n",
    "    \n",
    "    \n",
    "    dPhi = []\n",
    "    dTheta = []\n",
    "    dY0 = []\n",
    "    \n",
    "    phiActual = []\n",
    "    thetaActual = []\n",
    "    y0Actual = []\n",
    "    hActual = []\n",
    "    \n",
    "    phiPredicted = []\n",
    "    thetaPredicted = []\n",
    "    y0Predicted = []\n",
    "    hPredicted = []\n",
    "    \n",
    "    ix = 0\n",
    "    \n",
    "    for file in files:\n",
    "        phiA, thetaA, y0A, hA = getValuesFromFileName( file )\n",
    "        #phiP, thetaP, y0P, hP = getPredictions(phiPredictions[ix], thetaPredictions[ix], \\\n",
    "                                                #y0Predictions[ix], hPredictions[ix] )\n",
    "        \n",
    "        phiP, thetaP, y0P, hP = getPredictions([predictions[ix][0],predictions[ix][1]], [predictions[ix][2],predictions[ix][3]], \\\n",
    "                                                [predictions[ix][4]], [predictions[ix][5]] )\n",
    "        \n",
    "        dTheta.append( np.abs( thetaA - thetaP ) )\n",
    "        dY0.append( np.abs( y0A - (y0P*100.) ) )\n",
    "        \n",
    "        # Phi is circular so 10 degrees has same error as 350 degrees if true phi is 0, for example    \n",
    "        if ( phiP > phiA ):\n",
    "            mx = phiP\n",
    "            mn = phiA\n",
    "        else:\n",
    "            mx = phiA\n",
    "            mn = phiP\n",
    "    \n",
    "        d1 = mx - mn\n",
    "        d2 = 360 - mx + mn\n",
    "    \n",
    "        dPhi.append( np.min([d1,d2]) )\n",
    "        \n",
    "        phiActual.append( phiA )\n",
    "        thetaActual.append( thetaA )\n",
    "        y0Actual.append( y0A )\n",
    "        hActual.append( hA )\n",
    "        \n",
    "        phiPredicted.append( phiP )\n",
    "        thetaPredicted.append( thetaP )\n",
    "        y0Predicted.append( y0P )\n",
    "        hPredicted.append( hP )\n",
    "        \n",
    "        ix += 1\n",
    "    \n",
    "    \n",
    "    #print(np.quantile(checkList, [0,0.25,0.5,0.75,1]))\n",
    "    \n",
    "    return dPhi, dTheta, dY0, phiActual, thetaActual, y0Actual, hActual, \\\n",
    "        phiPredicted, thetaPredicted, y0Predicted, hPredicted"
   ]
  },
  {
   "cell_type": "code",
   "execution_count": 14,
   "metadata": {},
   "outputs": [],
   "source": [
    "from sklearn.metrics import f1_score\n",
    "from sklearn.metrics import precision_score\n",
    "from sklearn.metrics import recall_score\n",
    "                        \n",
    "def runComparison():\n",
    "\n",
    "    dPhi = []\n",
    "    dTheta = []\n",
    "    dY0 = []\n",
    "    phiActual = []\n",
    "    thetaActual = []\n",
    "    y0Actual = []\n",
    "    hActual = []\n",
    "    phiPredicted = []\n",
    "    thetaPredicted = []\n",
    "    y0Predicted = []\n",
    "    hPredicted = []\n",
    "        \n",
    "    for file in testFiles:\n",
    "        x1, x2, x3, x4, x5, x6, x7, x8, x9, x10, x11 = comparison(file)\n",
    "        dPhi.extend(x1)\n",
    "        dTheta.extend(x2)\n",
    "        dY0.extend(x3)\n",
    "        phiActual.extend(x4)\n",
    "        thetaActual.extend(x5)\n",
    "        y0Actual.extend(x6)\n",
    "        hActual.extend(x7)\n",
    "        phiPredicted.extend(x8)\n",
    "        thetaPredicted.extend(x9)\n",
    "        y0Predicted.extend(x10)\n",
    "        hPredicted.extend(x11)\n",
    "    \n",
    "    print( \"  Mean phi difference:\", round(np.mean(dPhi),2) )\n",
    "    print( \"  Phi difference standard deviation:\", round(np.std(dPhi),2) )\n",
    "\n",
    "    print( \"  Mean theta difference:\", round(np.mean(dTheta),2) )\n",
    "    print( \"  Theta difference standard deviation:\", round(np.std(dTheta),2) )\n",
    "\n",
    "    print( \"  Mean y0 difference:\", round(np.mean(dY0),2) )\n",
    "    print( \"  Y0 difference standard deviation:\", round(np.std(dY0),2) )\n",
    "\n",
    "    print( \"  Handedness F1 Score\", np.round(f1_score(hActual, hPredicted ),3) )\n",
    "    print( \"  Handedness Precision\", np.round(precision_score(hActual, hPredicted ),3) )\n",
    "    print( \"  Handedness Recall\", np.round(recall_score(hActual, hPredicted ),3) )\n",
    "    print( \" \" )\n",
    "\n",
    "    return dPhi, dTheta, dY0, phiActual, thetaActual, y0Actual, phiPredicted, thetaPredicted, y0Predicted, \\\n",
    "        hPredicted, hActual"
   ]
  },
  {
   "cell_type": "markdown",
   "metadata": {},
   "source": [
    "#### Analysis of testing files "
   ]
  },
  {
   "cell_type": "code",
   "execution_count": 15,
   "metadata": {},
   "outputs": [
    {
     "name": "stdout",
     "output_type": "stream",
     "text": [
      "  Mean phi difference: 6.38\n",
      "  Phi difference standard deviation: 11.73\n",
      "  Mean theta difference: 3.57\n",
      "  Theta difference standard deviation: 5.98\n",
      "  Mean y0 difference: 8.27\n",
      "  Y0 difference standard deviation: 15.08\n",
      "  Handedness F1 Score 0.992\n",
      "  Handedness Precision 0.992\n",
      "  Handedness Recall 0.992\n",
      " \n"
     ]
    }
   ],
   "source": [
    "dPhi, dTheta, dY0, phiActual, thetaActual, y0Actual, phiPredicted, thetaPredicted, y0Predicted, \\\n",
    "        hPredicted, hActual = runComparison()"
   ]
  },
  {
   "cell_type": "code",
   "execution_count": 16,
   "metadata": {},
   "outputs": [],
   "source": [
    "#outFile = \\\n",
    " #       '/home/narock/notebooks/fluxrope_ml/current/results/results_1D_full.npz'\n",
    "outFile = '/efs/jtopper/results/noise_results_1D_full.npz'\n",
    "np.savez(outFile, phiPredicted=phiPredicted, phiActual=phiActual, \\\n",
    "    thetaPredicted=thetaPredicted, thetaActual=thetaActual, hPredicted=hPredicted, hActual=hActual, \\\n",
    "    yPredicted=y0Predicted, yActual=y0Actual, dPhi=dPhi, dTheta=dTheta, dY0=dY0)"
   ]
  },
  {
   "cell_type": "code",
   "execution_count": 17,
   "metadata": {},
   "outputs": [],
   "source": [
    "font = {'family' : 'DejaVu Sans',\n",
    "        'weight' : 'bold',\n",
    "        'size'   : 12}\n",
    "\n",
    "plt.rc('font', **font)"
   ]
  },
  {
   "cell_type": "code",
   "execution_count": 18,
   "metadata": {},
   "outputs": [
    {
     "name": "stdout",
     "output_type": "stream",
     "text": [
      "Incorrect H: 904\n"
     ]
    },
    {
     "data": {
      "text/plain": [
       "Text(0.5, 0, '%')"
      ]
     },
     "execution_count": 18,
     "metadata": {},
     "output_type": "execute_result"
    },
    {
     "data": {
      "image/png": "[encoded data removed]",
      "text/plain": [
       "<Figure size 2520x720 with 4 Axes>"
      ]
     },
     "metadata": {
      "needs_background": "light"
     },
     "output_type": "display_data"
    }
   ],
   "source": [
    "fig, (ax1, ax2, ax3, ax4) = plt.subplots(1, 4, figsize=(35,10))\n",
    "ax1.hist(dPhi, bins=np.arange(0,50,1))\n",
    "ax2.hist(dTheta, bins=np.arange(0,50,1))\n",
    "ax3.hist(dY0, bins=np.arange(0,50,1))\n",
    "\n",
    "ax1.set_xticks([0,10,20,30,40,50])\n",
    "ax2.set_xticks([0,10,20,30,40,50])\n",
    "ax3.set_xticks([0,10,20,30,40,50])\n",
    "\n",
    "d = np.abs( np.array(hActual) - np.array(hPredicted) )\n",
    "correct = (d == 0).sum()\n",
    "incorrect = ( d == 2).sum()\n",
    "print(\"Incorrect H:\", incorrect)\n",
    "bars = [correct, incorrect]\n",
    "ax4.bar( [0,2], bars, tick_label=['Correct', 'Incorrect'] )\n",
    "\n",
    "fig.subplots_adjust(wspace=.25)\n",
    "#ax1.set_title('Phi', fontsize=30)\n",
    "#ax2.set_title('Theta', fontsize=30)\n",
    "#ax3.set_title('Y0', fontsize=30)\n",
    "#ax4.set_title('H', fontsize=30)\n",
    "ax1.set_yscale('log')\n",
    "ax2.set_yscale('log')\n",
    "ax3.set_yscale('log')\n",
    "ax4.set_yscale('log')\n",
    "\n",
    "ax4.set_ylim(1,10000)\n",
    "ax4.set_yticks([10,100,1000,10000,100000])\n",
    "\n",
    "ax3.set_ylim(1,10000)\n",
    "ax3.set_yticks([10,100,1000,10000,100000])\n",
    "\n",
    "ax2.set_ylim(1,10000)\n",
    "ax2.set_yticks([10,100,1000,10000,100000])\n",
    "\n",
    "ax1.set_ylim(1,10000)\n",
    "ax1.set_yticks([10,100,1000,10000,100000])\n",
    "\n",
    "ax1.tick_params(axis='x', labelsize=25)\n",
    "ax2.tick_params(axis='x', labelsize=25)\n",
    "ax3.tick_params(axis='x', labelsize=25)\n",
    "ax4.tick_params(axis='x', labelsize=25)\n",
    "ax1.tick_params(axis='y', labelsize=25)\n",
    "ax2.tick_params(axis='y', labelsize=25)\n",
    "ax3.tick_params(axis='y', labelsize=25)\n",
    "ax4.tick_params(axis='y', labelsize=25)\n",
    "\n",
    "ax1.set_ylabel('Occurences', fontsize=35)\n",
    "ax1.set_xlabel('Degrees', fontsize=30)\n",
    "ax2.set_xlabel('Degrees', fontsize=30)\n",
    "ax3.set_xlabel('%', fontsize=30)"
   ]
  },
  {
   "cell_type": "code",
   "execution_count": 19,
   "metadata": {},
   "outputs": [
    {
     "data": {
      "text/plain": [
       "([<matplotlib.axis.YTick at 0x7f9fef7ef160>,\n",
       "  <matplotlib.axis.YTick at 0x7f9fef7f69a0>,\n",
       "  <matplotlib.axis.YTick at 0x7f9fef755a30>,\n",
       "  <matplotlib.axis.YTick at 0x7f9fd3927550>,\n",
       "  <matplotlib.axis.YTick at 0x7f9fd3927ca0>],\n",
       " [Text(0, 0, ''),\n",
       "  Text(0, 0, ''),\n",
       "  Text(0, 0, ''),\n",
       "  Text(0, 0, ''),\n",
       "  Text(0, 0, '')])"
      ]
     },
     "execution_count": 19,
     "metadata": {},
     "output_type": "execute_result"
    },
    {
     "data": {
      "image/png": "[encoded data removed]",
      "text/plain": [
       "<Figure size 432x288 with 2 Axes>"
      ]
     },
     "metadata": {
      "needs_background": "light"
     },
     "output_type": "display_data"
    }
   ],
   "source": [
    "plt.scatter(phiPredicted, phiActual, c=np.abs(y0Actual))\n",
    "plt.xlabel('Phi Predicted', fontsize=20)\n",
    "plt.ylabel('Phi Ground Truth', fontsize=20)\n",
    "cb = plt.colorbar()\n",
    "cb.set_label(label='Y0 (%)', weight='bold')\n",
    "plt.xlim(0,360)\n",
    "plt.ylim(0,360)\n",
    "plt.xticks([0,90,180,270,360])\n",
    "plt.yticks([0,90,180,270,360])"
   ]
  },
  {
   "cell_type": "code",
   "execution_count": 20,
   "metadata": {},
   "outputs": [
    {
     "data": {
      "text/plain": [
       "([<matplotlib.axis.YTick at 0x7f9fef71f610>,\n",
       "  <matplotlib.axis.YTick at 0x7f9fef719e50>,\n",
       "  <matplotlib.axis.YTick at 0x7f9fef719580>,\n",
       "  <matplotlib.axis.YTick at 0x7f9fef6d28b0>,\n",
       "  <matplotlib.axis.YTick at 0x7f9fef6d8040>],\n",
       " [Text(0, 0, ''),\n",
       "  Text(0, 0, ''),\n",
       "  Text(0, 0, ''),\n",
       "  Text(0, 0, ''),\n",
       "  Text(0, 0, '')])"
      ]
     },
     "execution_count": 20,
     "metadata": {},
     "output_type": "execute_result"
    },
    {
     "data": {
      "image/png": "[encoded data removed]",
      "text/plain": [
       "<Figure size 432x288 with 2 Axes>"
      ]
     },
     "metadata": {
      "needs_background": "light"
     },
     "output_type": "display_data"
    }
   ],
   "source": [
    "plt.scatter(thetaPredicted, thetaActual, c=np.abs(y0Actual))\n",
    "plt.xlabel('Theta Predicted', fontsize=20)\n",
    "plt.ylabel('Theta Ground Truth', fontsize=20)\n",
    "cb = plt.colorbar()\n",
    "cb.set_label(label='Y0 (%)', weight='bold')\n",
    "plt.xlim(-90,90)\n",
    "plt.ylim(-90,90)\n",
    "plt.xticks([-90, -45, 0, 45, 90])\n",
    "plt.yticks([-90, -45, 0, 45, 90])"
   ]
  },
  {
   "cell_type": "markdown",
   "metadata": {},
   "source": [
    "#### Total Error"
   ]
  },
  {
   "cell_type": "code",
   "execution_count": 21,
   "metadata": {},
   "outputs": [
    {
     "data": {
      "text/plain": [
       "([<matplotlib.axis.YTick at 0x7f1f1ac90d90>,\n",
       "  <matplotlib.axis.YTick at 0x7f1f1ac90610>,\n",
       "  <matplotlib.axis.YTick at 0x7f1f1ac883a0>,\n",
       "  <matplotlib.axis.YTick at 0x7f1f19ad91c0>,\n",
       "  <matplotlib.axis.YTick at 0x7f1f19ad9910>],\n",
       " [Text(0, 0, ''),\n",
       "  Text(0, 0, ''),\n",
       "  Text(0, 0, ''),\n",
       "  Text(0, 0, ''),\n",
       "  Text(0, 0, '')])"
      ]
     },
     "execution_count": 21,
     "metadata": {},
     "output_type": "execute_result"
    },
    {
     "data": {
      "image/png": "[encoded data removed]",
      "text/plain": [
       "<Figure size 432x288 with 1 Axes>"
      ]
     },
     "metadata": {
      "needs_background": "light"
     },
     "output_type": "display_data"
    }
   ],
   "source": [
    "d = np.abs( np.array(hActual) - np.array(hPredicted) )\n",
    "correct = (d == 0).sum()\n",
    "incorrect = ( d == 2).sum()\n",
    "\n",
    "total_error = ( np.array(dPhi)/180. ) + ( np.array(dTheta)/180. ) + ( np.array(dY0)/100. ) + d/2.\n",
    "plt.hist(total_error, bins=np.arange(0, 1.5, .02))\n",
    "plt.title('1D CNN', fontsize=20)\n",
    "plt.ylabel('Occurrences', fontsize=20)\n",
    "plt.xlabel('Total Error', fontsize=20)\n",
    "plt.yscale('log')\n",
    "\n",
    "plt.ylim(1,10000)\n",
    "plt.yticks([10,100,1000,10000,100000])\n"
   ]
  },
  {
   "cell_type": "code",
   "execution_count": 22,
   "metadata": {},
   "outputs": [
    {
     "name": "stdout",
     "output_type": "stream",
     "text": [
      "Wind events less than 0.42: 110929\n",
      "96.75 %\n"
     ]
    }
   ],
   "source": [
    "ix = np.where( total_error <= 0.42 ) # 20 degrees\n",
    "print(\"Wind events less than 0.42:\", len(ix[0]))\n",
    "print( np.round((len(ix[0])/len(total_error))*100.,2),'%' )"
   ]
  },
  {
   "cell_type": "code",
   "execution_count": 23,
   "metadata": {},
   "outputs": [],
   "source": [
    "def chi(bgse, bfit):\n",
    "    \n",
    "    sms = []\n",
    "    n = len(bgse)\n",
    "    for i in range(n):\n",
    "        d1 = (bgse[1,i]-bfit[1,i])**2    # B\n",
    "        d2 = (bgse[2,i]-bfit[2,i])**2    # Bx\n",
    "        d3 = (bgse[3,i]-bfit[3,i])**2    # By\n",
    "        d4 = (bgse[4,i]-bfit[4,i])**2    # Bz\n",
    "        d = d1+d2+d3+d4\n",
    "        sms.append(d)\n",
    "    sms = np.array(sms)\n",
    "    numerator = np.sum(sms)\n",
    "    \n",
    "    bm1 = np.max(bgse[1,:])\n",
    "    bm2 = np.max(bfit[1,:])\n",
    "    bmax = np.max( [bm1, bm2] )\n",
    "    chi = numerator / ( (bmax**2) * n**2 )\n",
    "    \n",
    "    return np.sqrt(chi)"
   ]
  },
  {
   "cell_type": "code",
   "execution_count": 24,
   "metadata": {},
   "outputs": [],
   "source": [
    "from scipy.stats import pearsonr\n",
    "\n",
    "def correlation(x,y):\n",
    " \n",
    "    diff = x[2,:] - x[2,0]\n",
    "    ix = np.where( diff > 1e-7 )\n",
    "    n = len(ix[0])\n",
    "    \n",
    "    if (n == 0):\n",
    "        corrx = 0.99\n",
    "    else:\n",
    "        corrx, _ = pearsonr(x[2,:]*10., y[2,:]*10.) # x\n",
    "    \n",
    "    corry, _ = pearsonr(x[3,:]*10., y[3,:]*10.) # y\n",
    "    corrz, _ = pearsonr(x[4,:]*10., y[4,:]*10.) # z\n",
    "    corrb, _ = pearsonr(x[1,:]*10., y[1,:]*10.) # b\n",
    "    corr = (corrx + corry + corrz + corrb)/4.\n",
    "        \n",
    "    if (corr < 0.6):\n",
    "        print(x[4,:], y[4,:])\n",
    "        \n",
    "    return corr, corrx, corry, corrz, corrb"
   ]
  },
  {
   "cell_type": "code",
   "execution_count": 25,
   "metadata": {},
   "outputs": [
    {
     "name": "stdout",
     "output_type": "stream",
     "text": [
      "[-0.66617339 -0.63898264 -0.61179189 -0.58460114 -0.55741039 -0.53021963\n",
      " -0.50302888 -0.47583813 -0.44864738 -0.42145663 -0.39426588 -0.36707513\n",
      " -0.33988438 -0.31269363 -0.28550288 -0.25831213 -0.23112138 -0.20393063\n",
      " -0.17673988 -0.14954913 -0.12235838 -0.09516763 -0.06797688 -0.04078613\n",
      " -0.01359538  0.01359538  0.04078613  0.06797688  0.09516763  0.12235838\n",
      "  0.14954913  0.17673988  0.20393063  0.23112138  0.25831213  0.28550288\n",
      "  0.31269363  0.33988438  0.36707513  0.39426588  0.42145663  0.44864738\n",
      "  0.47583813  0.50302888  0.53021963  0.55741039  0.58460114  0.61179189\n",
      "  0.63898264  0.66617339] [-0.61696104 -0.59066844 -0.56441259 -0.53819348 -0.51201112 -0.48586549\n",
      " -0.45975662 -0.43368449 -0.4076491  -0.38165045 -0.35568855 -0.3297634\n",
      " -0.30387499 -0.27802332 -0.25220839 -0.22643022 -0.20068878 -0.17498409\n",
      " -0.14931614 -0.12368494 -0.09809048 -0.07253277 -0.0470118  -0.02152757\n",
      "  0.00391991  0.02933065  0.05470464  0.08004189  0.10534239  0.13060615\n",
      "  0.15583317  0.18102344  0.20617697  0.23129376  0.2563738   0.28141709\n",
      "  0.30642364  0.33139345  0.35632651  0.38122283  0.40608241  0.43090524\n",
      "  0.45569133  0.48044067  0.50515327  0.52982912  0.55446823  0.5790706\n",
      "  0.60363622  0.62816509]\n",
      "85.0 0.0 50.0 -1\n",
      "93.20846 1.2535143 58.70835781097412 -1.0\n",
      "0.49919735155497524 -1.0 0.9986765714337437 0.9999565112069014 0.9981563235792558\n",
      "\n",
      "[-0.68259799 -0.66918507 -0.65595623 -0.64291147 -0.6300508  -0.61737422\n",
      " -0.60488171 -0.59257329 -0.58044895 -0.56850869 -0.55675252 -0.54518043\n",
      " -0.53379242 -0.5225885  -0.51156866 -0.5007329  -0.49008122 -0.47961363\n",
      " -0.46933012 -0.4592307  -0.44931535 -0.43958409 -0.43003692 -0.42067382\n",
      " -0.41149481 -0.40249988 -0.39368904 -0.38506228 -0.3766196  -0.368361\n",
      " -0.36028649 -0.35239606 -0.34468971 -0.33716745 -0.32982927 -0.32267517\n",
      " -0.31570515 -0.30891922 -0.30231737 -0.29589961 -0.28966592 -0.28361632\n",
      " -0.27775081 -0.27206937 -0.26657202 -0.26125875 -0.25612957 -0.25118447\n",
      " -0.24642345 -0.24184651] [-0.797218   -0.79042373 -0.78280176 -0.77435208 -0.7650747  -0.75496961\n",
      " -0.74403681 -0.73227631 -0.7196881  -0.70627218 -0.69202856 -0.67695723\n",
      " -0.6610582  -0.64433146 -0.62677701 -0.60839485 -0.589185   -0.56914743\n",
      " -0.54828216 -0.52658918 -0.50406849 -0.4807201  -0.456544   -0.4315402\n",
      " -0.40570869 -0.37904947 -0.35156255 -0.32324792 -0.29410558 -0.26413554\n",
      " -0.23333779 -0.20171234 -0.16925918 -0.13597831 -0.10186974 -0.06693346\n",
      " -0.03116947  0.00542222  0.04284162  0.08108872  0.12016353  0.16006605\n",
      "  0.20079628  0.24235421  0.28473984  0.32795318  0.37199423  0.41686299\n",
      "  0.46255945  0.50908362]\n",
      "170.0 15.0 -85.0 -1\n",
      "222.1100311279297 -20.159157 -25.086799263954163 1.0\n",
      "0.5545994627541213 0.99 0.79948174111344 0.9464062390957323 -0.5174901291926867\n",
      "\n",
      "[-0.3234989  -0.31438023 -0.30543827 -0.29667301 -0.28808445 -0.2796726\n",
      " -0.27143745 -0.263379   -0.25549726 -0.24779222 -0.24026388 -0.23291224\n",
      " -0.22573731 -0.21873908 -0.21191755 -0.20527273 -0.19880461 -0.19251319\n",
      " -0.18639848 -0.18046047 -0.17469916 -0.16911455 -0.16370665 -0.15847545\n",
      " -0.15342096 -0.14854317 -0.14384208 -0.13931769 -0.13497001 -0.13079903\n",
      " -0.12680475 -0.12298718 -0.1193463  -0.11588214 -0.11259467 -0.10948391\n",
      " -0.10654985 -0.10379249 -0.10121184 -0.09880789 -0.09658065 -0.0945301\n",
      " -0.09265626 -0.09095912 -0.08943869 -0.08809496 -0.08692793 -0.08593761\n",
      " -0.08512398 -0.08448707] [-0.12565085 -0.12748055 -0.12945953 -0.13158778 -0.13386531 -0.13629211\n",
      " -0.13886819 -0.14159354 -0.14446817 -0.14749208 -0.15066526 -0.15398771\n",
      " -0.15745944 -0.16108045 -0.16485073 -0.16877029 -0.17283912 -0.17705722\n",
      " -0.18142461 -0.18594127 -0.1906072  -0.19542241 -0.20038689 -0.20550065\n",
      " -0.21076368 -0.21617599 -0.22173758 -0.22744844 -0.23330858 -0.23931799\n",
      " -0.24547668 -0.25178464 -0.25824187 -0.26484839 -0.27160418 -0.27850924\n",
      " -0.28556358 -0.29276719 -0.30012008 -0.30762225 -0.31527369 -0.3230744\n",
      " -0.3310244  -0.33912366 -0.3473722  -0.35577002 -0.36431711 -0.37301348\n",
      " -0.38185912 -0.39085404]\n",
      "325.0 45.0 -95.0 1\n",
      "32.436535 38.274982 -95.18279433250427 1.0\n",
      "0.517136617101183 1.0 0.9874282870091174 -0.9188730372965124 0.999991218692127\n",
      "\n"
     ]
    },
    {
     "ename": "AssertionError",
     "evalue": "THETA must be in [-90,90]",
     "output_type": "error",
     "traceback": [
      "\u001b[0;31m---------------------------------------------------------------------------\u001b[0m",
      "\u001b[0;31mAssertionError\u001b[0m                            Traceback (most recent call last)",
      "Input \u001b[0;32mIn [25]\u001b[0m, in \u001b[0;36m<cell line: 8>\u001b[0;34m()\u001b[0m\n\u001b[1;32m      8\u001b[0m \u001b[38;5;28;01mfor\u001b[39;00m i \u001b[38;5;129;01min\u001b[39;00m \u001b[38;5;28mrange\u001b[39m(n):\n\u001b[1;32m     10\u001b[0m     actual \u001b[38;5;241m=\u001b[39m ec_create_data(\u001b[38;5;241m1\u001b[39m, phiActual[i], thetaActual[i], \u001b[38;5;241m0.\u001b[39m, y0Actual[i], hActual[i])\n\u001b[0;32m---> 11\u001b[0m     predicted \u001b[38;5;241m=\u001b[39m \u001b[43mec_create_data\u001b[49m\u001b[43m(\u001b[49m\u001b[38;5;241;43m1\u001b[39;49m\u001b[43m,\u001b[49m\u001b[43m \u001b[49m\u001b[43mphiPredicted\u001b[49m\u001b[43m[\u001b[49m\u001b[43mi\u001b[49m\u001b[43m]\u001b[49m\u001b[43m,\u001b[49m\u001b[43m \u001b[49m\u001b[43mthetaPredicted\u001b[49m\u001b[43m[\u001b[49m\u001b[43mi\u001b[49m\u001b[43m]\u001b[49m\u001b[43m,\u001b[49m\u001b[43m \u001b[49m\u001b[38;5;241;43m0.\u001b[39;49m\u001b[43m,\u001b[49m\u001b[43m \u001b[49m\u001b[43my0Predicted\u001b[49m\u001b[43m[\u001b[49m\u001b[43mi\u001b[49m\u001b[43m]\u001b[49m\u001b[38;5;241;43m*\u001b[39;49m\u001b[38;5;241;43m100.\u001b[39;49m\u001b[43m,\u001b[49m\u001b[43m \u001b[49m\u001b[43mhPredicted\u001b[49m\u001b[43m[\u001b[49m\u001b[43mi\u001b[49m\u001b[43m]\u001b[49m\u001b[43m)\u001b[49m\n\u001b[1;32m     13\u001b[0m     \u001b[38;5;66;03m#c = chi(actual,predicted)\u001b[39;00m\n\u001b[1;32m     15\u001b[0m     r, rx, ry, rz, rb \u001b[38;5;241m=\u001b[39m correlation(actual, predicted)\n",
      "File \u001b[0;32m~/efs/jtopper/ecmodel_revised.py:109\u001b[0m, in \u001b[0;36mec_create_data\u001b[0;34m(delta, phi, theta, psi, y0, h, C10, By0, us, R, tau, n, m, norm_poloidal, noise_type, epsilon, num, ignore_bounds)\u001b[0m\n\u001b[1;32m    107\u001b[0m \u001b[38;5;28;01massert\u001b[39;00m phi \u001b[38;5;241m>\u001b[39m \u001b[38;5;241m0\u001b[39m \u001b[38;5;129;01mand\u001b[39;00m phi \u001b[38;5;241m<\u001b[39m \u001b[38;5;241m360\u001b[39m, \u001b[38;5;124m\"\u001b[39m\u001b[38;5;124mPHI must be in (0,360)\u001b[39m\u001b[38;5;124m\"\u001b[39m\n\u001b[1;32m    108\u001b[0m \u001b[38;5;28;01massert\u001b[39;00m phi \u001b[38;5;241m!=\u001b[39m \u001b[38;5;241m180\u001b[39m, \u001b[38;5;124m\"\u001b[39m\u001b[38;5;124mPHI cannot be 180\u001b[39m\u001b[38;5;124m\"\u001b[39m\n\u001b[0;32m--> 109\u001b[0m \u001b[38;5;28;01massert\u001b[39;00m theta \u001b[38;5;241m>\u001b[39m\u001b[38;5;241m=\u001b[39m \u001b[38;5;241m-\u001b[39m\u001b[38;5;241m90\u001b[39m \u001b[38;5;129;01mand\u001b[39;00m theta \u001b[38;5;241m<\u001b[39m\u001b[38;5;241m=\u001b[39m \u001b[38;5;241m90\u001b[39m, \u001b[38;5;124m\"\u001b[39m\u001b[38;5;124mTHETA must be in [-90,90]\u001b[39m\u001b[38;5;124m\"\u001b[39m\n\u001b[1;32m    110\u001b[0m \u001b[38;5;28;01massert\u001b[39;00m psi \u001b[38;5;241m>\u001b[39m\u001b[38;5;241m=\u001b[39m \u001b[38;5;241m0\u001b[39m \u001b[38;5;129;01mand\u001b[39;00m psi \u001b[38;5;241m<\u001b[39m\u001b[38;5;241m=\u001b[39m \u001b[38;5;241m180\u001b[39m, \u001b[38;5;124m\"\u001b[39m\u001b[38;5;124mPSI must be in [0,180]\u001b[39m\u001b[38;5;124m\"\u001b[39m\n\u001b[1;32m    111\u001b[0m \u001b[38;5;28;01massert\u001b[39;00m y0 \u001b[38;5;241m>\u001b[39m \u001b[38;5;241m-\u001b[39m\u001b[38;5;241m100\u001b[39m \u001b[38;5;129;01mand\u001b[39;00m y0 \u001b[38;5;241m<\u001b[39m \u001b[38;5;241m100\u001b[39m, \u001b[38;5;124m\"\u001b[39m\u001b[38;5;124mY0 must be in (-100,100)\u001b[39m\u001b[38;5;124m\"\u001b[39m\n",
      "\u001b[0;31mAssertionError\u001b[0m: THETA must be in [-90,90]"
     ]
    }
   ],
   "source": [
    "import sys\n",
    "sys.path.append(os.path.realpath('..')) # To find the FR model code\n",
    "from ecmodel_revised import ec_create_data\n",
    "\n",
    "rs = []\n",
    "\n",
    "n = len(phiActual)\n",
    "for i in range(n):\n",
    "\n",
    "    actual = ec_create_data(1, phiActual[i], thetaActual[i], 0., y0Actual[i], hActual[i])\n",
    "    predicted = ec_create_data(1, phiPredicted[i], thetaPredicted[i], 0., y0Predicted[i]*100., hPredicted[i])\n",
    "\n",
    "    #c = chi(actual,predicted)\n",
    "    \n",
    "    r, rx, ry, rz, rb = correlation(actual, predicted)\n",
    "    \n",
    "    if (r < 0.6):\n",
    "        print(phiActual[i], thetaActual[i], y0Actual[i], hActual[i])\n",
    "        print(phiPredicted[i], thetaPredicted[i], y0Predicted[i]*100., hPredicted[i])\n",
    "        print(r, rx, ry, rz, rb)\n",
    "        print()\n",
    "    rs.append( r )"
   ]
  },
  {
   "cell_type": "code",
   "execution_count": 26,
   "metadata": {},
   "outputs": [
    {
     "data": {
      "text/plain": [
       "67"
      ]
     },
     "execution_count": 26,
     "metadata": {},
     "output_type": "execute_result"
    }
   ],
   "source": [
    "len(rs)"
   ]
  },
  {
   "cell_type": "code",
   "execution_count": 27,
   "metadata": {
    "scrolled": true
   },
   "outputs": [
    {
     "name": "stdout",
     "output_type": "stream",
     "text": [
      "0.49919735155497524 0.9999922087356328\n"
     ]
    }
   ],
   "source": [
    "print(min(rs),max(rs))"
   ]
  },
  {
   "cell_type": "code",
   "execution_count": 28,
   "metadata": {},
   "outputs": [
    {
     "data": {
      "text/plain": [
       "(-1.0, 1.0)"
      ]
     },
     "execution_count": 28,
     "metadata": {},
     "output_type": "execute_result"
    },
    {
     "data": {
      "image/png": "[encoded data removed]",
      "text/plain": [
       "<Figure size 432x288 with 1 Axes>"
      ]
     },
     "metadata": {
      "needs_background": "light"
     },
     "output_type": "display_data"
    }
   ],
   "source": [
    "plt.hist(rs)\n",
    "plt.yscale('log')\n",
    "plt.ylabel('Occurrences', fontsize=15)\n",
    "plt.xlabel('Correlation', fontsize=15)\n",
    "plt.title('Correlation Values - 1D CNN')\n",
    "plt.xlim(-1,1)"
   ]
  },
  {
   "cell_type": "markdown",
   "metadata": {},
   "source": [
    "#### Real-Time Predictions with Synthetic"
   ]
  },
  {
   "cell_type": "code",
   "execution_count": 29,
   "metadata": {},
   "outputs": [],
   "source": [
    "def readCSV(files):\n",
    "    \n",
    "    count = len(files)\n",
    "    dataX = np.zeros(shape=(count, 50, 3))\n",
    "    \n",
    "    p = np.zeros( shape=(count,2) )\n",
    "    t = np.zeros( shape=(count,2) )\n",
    "    y0 = np.zeros( count )\n",
    "    h = np.zeros( count )\n",
    "    \n",
    "    index = 0\n",
    "    for f in files:\n",
    "        \n",
    "        # extract the output value from the file name\n",
    "        parts = f.split(\"/\")\n",
    "        fname = parts[-1]\n",
    "        parts = fname.split(\"_\")\n",
    "        phi = float(parts[3])\n",
    "        theta = float(parts[4])\n",
    "        y0R = float(parts[5])\n",
    "        HH = parts[6]\n",
    "        parts = HH.split(\".\")\n",
    "        HH = float(parts[0])\n",
    "        \n",
    "        y0[index] = y0R\n",
    "        \n",
    "        p[index, 0] = np.sin( np.radians(phi) )\n",
    "        p[index, 1] = np.cos( np.radians(phi) )\n",
    "        \n",
    "        t[index, 0] = np.sin( np.radians(theta) )\n",
    "        t[index, 1] = np.cos( np.radians(theta) )\n",
    "                \n",
    "        # change handedness from -1 or 1 to 0 or 1 to align with \n",
    "        # neural network sigmoid function\n",
    "        if (HH == -1):\n",
    "            h[index] = 0\n",
    "        else:\n",
    "            h[index] = 1\n",
    "                    \n",
    "        # read the data\n",
    "        bx = []\n",
    "        by = []\n",
    "        bz = []\n",
    "        openFile = open(f, \"r\")\n",
    "        for line in openFile:\n",
    "            parts = line.split(\",\")\n",
    "            bx.append(float(parts[0]))\n",
    "            by.append(float(parts[1]))\n",
    "            bz.append(float(parts[2]))\n",
    "        openFile.close()\n",
    "        \n",
    "        bx = np.array(bx)\n",
    "        by = np.array(by)\n",
    "        bz = np.array(bz)\n",
    "        b = np.sqrt( bx*bx + by*by + bz*bz )\n",
    "        phi = np.degrees(np.arctan2(bx,by))\n",
    "        theta = np.degrees(np.arcsin( bz/b ))\n",
    "\n",
    "        dataX[index, :, 0] = bx\n",
    "        dataX[index, :, 1] = by\n",
    "        dataX[index, :, 2] = bz\n",
    "        \n",
    "        index += 1\n",
    "\n",
    "    return dataX, p, t, y0, h"
   ]
  },
  {
   "cell_type": "code",
   "execution_count": null,
   "metadata": {},
   "outputs": [],
   "source": [
    "#file = '/home/narock/data/fluxropes_cc/fluxrope_cc_B10_90_0_0_1.csv'\n",
    "\n",
    "\n",
    "x, p, t, y0, h = readCSV( [file] )\n",
    "    \n",
    "# NN input    \n",
    "predictions = model.predict(x)\n",
    "phiPredictions = predictions[0][0]\n",
    "thetaPredictions = predictions[1][0]\n",
    "y0Predictions = predictions[2][0]\n",
    "hPredictions = predictions[3][0]\n",
    "\n",
    "phiP, thetaP, y0P, hP = getPredictions( phiPredictions, thetaPredictions, y0Predictions, hPredictions )\n",
    "phiA, thetaA, y0A, hA = getPredictions( p[0], t[0], y0, h )\n",
    "\n",
    "print( \"Actual:\", np.round(phiA,1), np.round(thetaA,1), np.round(y0A,1), hA )\n",
    "print( \"Predictions:\", np.round(phiP,1), np.round(thetaP,1), np.round(y0P,1), hP )"
   ]
  },
  {
   "cell_type": "markdown",
   "metadata": {},
   "source": [
    "### Analysis of Wind events"
   ]
  },
  {
   "cell_type": "code",
   "execution_count": null,
   "metadata": {},
   "outputs": [],
   "source": [
    "#windFiles = glob.glob(\"/home/narock/data/fluxropes_wind/*.csv\")\n",
    "#windFiles = glob.glob(\"fluxropes_wind/*.csv\")\n",
    "windFiles = glob.glob('/efs/tnarock/fluxrope_data/spacecraft/wind/*.csv')"
   ]
  },
  {
   "cell_type": "code",
   "execution_count": null,
   "metadata": {},
   "outputs": [],
   "source": [
    "#Create a global variable list to get values\n",
    "\n",
    "windPredValues = []"
   ]
  },
  {
   "cell_type": "code",
   "execution_count": null,
   "metadata": {},
   "outputs": [],
   "source": [
    "def readWind( file ):\n",
    "    \n",
    "    bx = []\n",
    "    by = []\n",
    "    bz = []\n",
    "    time = []\n",
    "    \n",
    "    f = open(file,\"r\")\n",
    "    skip_header = True\n",
    "    for line in f:\n",
    "        if skip_header:\n",
    "            skip_header = False\n",
    "        else:\n",
    "            parts = line.split(\",\")\n",
    "            time.append( parts[0].strip() )\n",
    "            bx.append( float(parts[2].strip()) )\n",
    "            by.append( float(parts[3].strip()) )\n",
    "            bz.append( float(parts[4].strip()) )\n",
    "        \n",
    "    f.close()\n",
    "    \n",
    "    time = np.array(time)\n",
    "    bx = np.array(bx)\n",
    "    by = np.array(by)\n",
    "    bz = np.array(bz)\n",
    "    \n",
    "    b = np.sqrt( bx*bx + by*by + bz*bz )\n",
    "    bx /= b\n",
    "    by /= b\n",
    "    bz /= b\n",
    "    \n",
    "    return time, bx, by, bz"
   ]
  },
  {
   "cell_type": "markdown",
   "metadata": {},
   "source": [
    "#### Difference between Wind table and Neural Network for different types of fluxropes"
   ]
  },
  {
   "cell_type": "code",
   "execution_count": 57,
   "metadata": {},
   "outputs": [],
   "source": [
    "def moving_average(x, N=10):\n",
    "\n",
    "    N = 10\n",
    "    cumsum, moving_aves = [0], []\n",
    "\n",
    "    for i, x in enumerate(x, 1):\n",
    "        cumsum.append(cumsum[i-1] + x)\n",
    "        if i>=N:\n",
    "            moving_ave = (cumsum[i] - cumsum[i-N])/N\n",
    "            moving_aves.append(moving_ave)\n",
    "    \n",
    "    return moving_aves"
   ]
  },
  {
   "cell_type": "markdown",
   "metadata": {},
   "source": [
    "### Grab Json Dataframe"
   ]
  },
  {
   "cell_type": "code",
   "execution_count": 58,
   "metadata": {},
   "outputs": [
    {
     "data": {
      "text/html": [
       "<div>\n",
       "<style scoped>\n",
       "    .dataframe tbody tr th:only-of-type {\n",
       "        vertical-align: middle;\n",
       "    }\n",
       "\n",
       "    .dataframe tbody tr th {\n",
       "        vertical-align: top;\n",
       "    }\n",
       "\n",
       "    .dataframe thead th {\n",
       "        text-align: right;\n",
       "    }\n",
       "</style>\n",
       "<table border=\"1\" class=\"dataframe\">\n",
       "  <thead>\n",
       "    <tr style=\"text-align: right;\">\n",
       "      <th></th>\n",
       "      <th>rho</th>\n",
       "      <th>chiSqr</th>\n",
       "      <th>Vsw</th>\n",
       "      <th>Configuration</th>\n",
       "      <th>tau</th>\n",
       "      <th>C10</th>\n",
       "      <th>By0</th>\n",
       "      <th>delta</th>\n",
       "      <th>R</th>\n",
       "      <th>y0</th>\n",
       "      <th>psi</th>\n",
       "      <th>theta</th>\n",
       "      <th>phi</th>\n",
       "      <th>H</th>\n",
       "      <th>class</th>\n",
       "      <th>ICME_datestart</th>\n",
       "      <th>ICME_dateend</th>\n",
       "      <th>MO_datestart</th>\n",
       "      <th>download_start</th>\n",
       "      <th>download_end</th>\n",
       "      <th>save_name</th>\n",
       "    </tr>\n",
       "  </thead>\n",
       "  <tbody>\n",
       "    <tr>\n",
       "      <th>0</th>\n",
       "      <td>0.617443</td>\n",
       "      <td>0.257603</td>\n",
       "      <td>443.682640</td>\n",
       "      <td>S</td>\n",
       "      <td>1.0</td>\n",
       "      <td>-1.613269</td>\n",
       "      <td>15.494775</td>\n",
       "      <td>1.0</td>\n",
       "      <td>0.096</td>\n",
       "      <td>-0.054818</td>\n",
       "      <td>0.0</td>\n",
       "      <td>-78.981814</td>\n",
       "      <td>211.683818</td>\n",
       "      <td>L</td>\n",
       "      <td>Fr</td>\n",
       "      <td>1995-03-04 00:36:00.000</td>\n",
       "      <td>1995-03-05 03:06:59.999</td>\n",
       "      <td>1995-03-04 11:23:00</td>\n",
       "      <td>1995-03-02 22:05:00.000</td>\n",
       "      <td>1995-03-06 05:37:59.999</td>\n",
       "      <td>WI_19950304_063</td>\n",
       "    </tr>\n",
       "    <tr>\n",
       "      <th>1</th>\n",
       "      <td>0.498198</td>\n",
       "      <td>0.156569</td>\n",
       "      <td>458.761252</td>\n",
       "      <td>NSN</td>\n",
       "      <td>1.0</td>\n",
       "      <td>2.153750</td>\n",
       "      <td>17.790303</td>\n",
       "      <td>1.0</td>\n",
       "      <td>0.228</td>\n",
       "      <td>-0.223270</td>\n",
       "      <td>0.0</td>\n",
       "      <td>15.279920</td>\n",
       "      <td>154.884715</td>\n",
       "      <td>R</td>\n",
       "      <td>F-</td>\n",
       "      <td>1995-03-06 02:10:59.999</td>\n",
       "      <td>1995-03-07 02:23:00.000</td>\n",
       "      <td>1995-03-06 07:11:00</td>\n",
       "      <td>1995-03-05 01:58:59.999</td>\n",
       "      <td>1995-03-08 02:35:00.000</td>\n",
       "      <td>WI_19950306_065</td>\n",
       "    </tr>\n",
       "    <tr>\n",
       "      <th>2</th>\n",
       "      <td>0.485200</td>\n",
       "      <td>0.384892</td>\n",
       "      <td>294.082448</td>\n",
       "      <td>NSS</td>\n",
       "      <td>1.0</td>\n",
       "      <td>2.057515</td>\n",
       "      <td>16.114919</td>\n",
       "      <td>1.0</td>\n",
       "      <td>0.123</td>\n",
       "      <td>0.097549</td>\n",
       "      <td>0.0</td>\n",
       "      <td>-34.248896</td>\n",
       "      <td>116.330881</td>\n",
       "      <td>R</td>\n",
       "      <td>F+</td>\n",
       "      <td>1995-04-03 06:42:59.999</td>\n",
       "      <td>1995-04-04 13:25:59.999</td>\n",
       "      <td>1995-04-03 12:45:00</td>\n",
       "      <td>1995-04-02 00:00:00.000</td>\n",
       "      <td>1995-04-05 20:08:59.999</td>\n",
       "      <td>WI_19950403_093</td>\n",
       "    </tr>\n",
       "    <tr>\n",
       "      <th>3</th>\n",
       "      <td>0.767121</td>\n",
       "      <td>0.284753</td>\n",
       "      <td>332.067518</td>\n",
       "      <td>SN</td>\n",
       "      <td>1.0</td>\n",
       "      <td>-0.978229</td>\n",
       "      <td>7.737002</td>\n",
       "      <td>1.0</td>\n",
       "      <td>0.109</td>\n",
       "      <td>0.065042</td>\n",
       "      <td>0.0</td>\n",
       "      <td>1.015284</td>\n",
       "      <td>96.746514</td>\n",
       "      <td>L</td>\n",
       "      <td>Fr</td>\n",
       "      <td>1995-04-05 07:11:00.000</td>\n",
       "      <td>1995-04-06 17:15:59.999</td>\n",
       "      <td>1995-04-05 17:59:00</td>\n",
       "      <td>1995-04-03 21:06:00.000</td>\n",
       "      <td>1995-04-08 03:20:59.999</td>\n",
       "      <td>WI_19950405_095</td>\n",
       "    </tr>\n",
       "    <tr>\n",
       "      <th>4</th>\n",
       "      <td>0.563305</td>\n",
       "      <td>0.444184</td>\n",
       "      <td>397.968337</td>\n",
       "      <td>SN</td>\n",
       "      <td>1.0</td>\n",
       "      <td>2.248217</td>\n",
       "      <td>14.585216</td>\n",
       "      <td>1.0</td>\n",
       "      <td>0.262</td>\n",
       "      <td>0.175940</td>\n",
       "      <td>0.0</td>\n",
       "      <td>5.002831</td>\n",
       "      <td>306.029282</td>\n",
       "      <td>R</td>\n",
       "      <td>Fr</td>\n",
       "      <td>1995-06-30 09:20:59.999</td>\n",
       "      <td>1995-07-02 16:47:00.000</td>\n",
       "      <td>1995-06-30 14:23:00</td>\n",
       "      <td>1995-06-28 01:54:59.999</td>\n",
       "      <td>1995-07-05 00:13:00.000</td>\n",
       "      <td>WI_19950630_181</td>\n",
       "    </tr>\n",
       "  </tbody>\n",
       "</table>\n",
       "</div>"
      ],
      "text/plain": [
       "        rho    chiSqr         Vsw Configuration  tau       C10        By0  \\\n",
       "0  0.617443  0.257603  443.682640             S  1.0 -1.613269  15.494775   \n",
       "1  0.498198  0.156569  458.761252           NSN  1.0  2.153750  17.790303   \n",
       "2  0.485200  0.384892  294.082448           NSS  1.0  2.057515  16.114919   \n",
       "3  0.767121  0.284753  332.067518            SN  1.0 -0.978229   7.737002   \n",
       "4  0.563305  0.444184  397.968337            SN  1.0  2.248217  14.585216   \n",
       "\n",
       "   delta      R        y0  psi      theta         phi  H class  \\\n",
       "0    1.0  0.096 -0.054818  0.0 -78.981814  211.683818  L    Fr   \n",
       "1    1.0  0.228 -0.223270  0.0  15.279920  154.884715  R    F-   \n",
       "2    1.0  0.123  0.097549  0.0 -34.248896  116.330881  R    F+   \n",
       "3    1.0  0.109  0.065042  0.0   1.015284   96.746514  L    Fr   \n",
       "4    1.0  0.262  0.175940  0.0   5.002831  306.029282  R    Fr   \n",
       "\n",
       "           ICME_datestart            ICME_dateend        MO_datestart  \\\n",
       "0 1995-03-04 00:36:00.000 1995-03-05 03:06:59.999 1995-03-04 11:23:00   \n",
       "1 1995-03-06 02:10:59.999 1995-03-07 02:23:00.000 1995-03-06 07:11:00   \n",
       "2 1995-04-03 06:42:59.999 1995-04-04 13:25:59.999 1995-04-03 12:45:00   \n",
       "3 1995-04-05 07:11:00.000 1995-04-06 17:15:59.999 1995-04-05 17:59:00   \n",
       "4 1995-06-30 09:20:59.999 1995-07-02 16:47:00.000 1995-06-30 14:23:00   \n",
       "\n",
       "           download_start            download_end        save_name  \n",
       "0 1995-03-02 22:05:00.000 1995-03-06 05:37:59.999  WI_19950304_063  \n",
       "1 1995-03-05 01:58:59.999 1995-03-08 02:35:00.000  WI_19950306_065  \n",
       "2 1995-04-02 00:00:00.000 1995-04-05 20:08:59.999  WI_19950403_093  \n",
       "3 1995-04-03 21:06:00.000 1995-04-08 03:20:59.999  WI_19950405_095  \n",
       "4 1995-06-28 01:54:59.999 1995-07-05 00:13:00.000  WI_19950630_181  "
      ]
     },
     "execution_count": 58,
     "metadata": {},
     "output_type": "execute_result"
    }
   ],
   "source": [
    "from pathlib import Path\n",
    "import pandas as pd\n",
    "\n",
    "cat_file = Path('/efs/tnarock/fluxrope_data/Wind_FR_Fits_CC_GSE.json')\n",
    "cat = pd.read_json(cat_file,orient='table')\n",
    "\n",
    "pd.set_option('display.max_columns', None)\n",
    "cat.head()"
   ]
  },
  {
   "cell_type": "code",
   "execution_count": 59,
   "metadata": {},
   "outputs": [],
   "source": [
    "from scipy.stats import circstd\n",
    "from scipy import signal\n",
    "from scipy import interpolate\n",
    "\n",
    "def compareNNtoWind(tpIn, allTypes=False):\n",
    "\n",
    "    types = []\n",
    "    phiDiff = []\n",
    "    thetaDiff = []\n",
    "    y0Diff = []\n",
    "    hDiff = []\n",
    "    files = []\n",
    "    \n",
    "    count = 0\n",
    "    \n",
    "    \n",
    "    for file in windFiles:\n",
    "    \n",
    "        # fit values from filename\n",
    "        parts = file.split(\"/\")\n",
    "        fname = parts[-1]\n",
    "        fname = fname.replace(\".csv\",\"\")\n",
    "        part = cat.loc[cat['save_name'] == fname]\n",
    "        \n",
    "        #if not part.empty:\n",
    "        \"\"\"tp = parts[3]\n",
    "        phi = float(parts[7])\n",
    "        theta = float(parts[8])\n",
    "        y0 = float(parts[9])\n",
    "        radius = float(parts[10][:-4])\n",
    "        y0 = np.abs( (y0/radius)*100. )\n",
    "        h = int(parts[5])\"\"\" \n",
    "\n",
    "        tp = part['class'].item()\n",
    "        phi = float(part['phi'].item())\n",
    "        theta = float(part['theta'].item())\n",
    "        y0 = float(part['y0'].item())\n",
    "        radius = float(part['R'].item())\n",
    "        y0 = np.abs((y0/radius)*100)\n",
    "        h = part['H'].item()\n",
    "\n",
    "        if h == 'R':\n",
    "            h = 1\n",
    "        else:\n",
    "            h = -1\n",
    "\n",
    "        if ( (tp == tpIn) or (allTypes == True) ):\n",
    "\n",
    "            # read the Wind data\n",
    "            time, bx, by, bz = readWind( file )\n",
    "\n",
    "            # NN input\n",
    "            x = np.zeros( shape=(1,50,3) )\n",
    "\n",
    "            # moving averages to smooth Wind            \n",
    "            newX = moving_average(bx, 5)\n",
    "            newY = moving_average(by, 5)\n",
    "            newZ = moving_average(bz, 5)\n",
    "\n",
    "            xx = np.arange(0, len(newX), 1)\n",
    "\n",
    "            fx = interpolate.interp1d(xx, newX)\n",
    "            fy = interpolate.interp1d(xx, newY)\n",
    "            fz = interpolate.interp1d(xx, newZ)\n",
    "\n",
    "            xnew = np.linspace(0, len(newX)-1, num=50) # linspace included endpoint, arange does not\n",
    "            ynew = np.linspace(0, len(newY)-1, num=50)\n",
    "            znew = np.linspace(0, len(newZ)-1, num=50)\n",
    "\n",
    "            newX = fx(xnew)   \n",
    "            newY = fy(ynew)\n",
    "            newZ = fz(znew)\n",
    "\n",
    "            x[0,:,0] = newX\n",
    "            x[0,:,1] = newY\n",
    "            x[0,:,2] = newZ\n",
    "\n",
    "            predictions = model.predict(x)\n",
    "            \"\"\"\n",
    "            phiPredictions = predictions[0][0]\n",
    "            thetaPredictions = predictions[1][0]\n",
    "            y0Predictions = predictions[2][0]\n",
    "            hPredictions = predictions[3][0]\n",
    "\n",
    "            phiP, thetaP, y0P, hP = getPredictions( phiPredictions, thetaPredictions, y0Predictions, \\\n",
    "                                                    hPredictions )\"\"\"\n",
    "            \n",
    "            phiP, thetaP, y0P, hP = getPredictions([predictions[0][0],predictions[count][1]], [predictions[0][2],predictions[0][3]], \\\n",
    "                                        [predictions[0][4]], [predictions[0][5]] )\n",
    "            #count += 1\n",
    "            \n",
    "            hd = getDifference( hP, h, phi=False)\n",
    "            #if ( hd == 2.0 ):\n",
    "\n",
    "            hDiff.append( getDifference( hP, h, phi=False) )\n",
    "            files.append(file)\n",
    "\n",
    "            types.append( tp )\n",
    "            phiDiff.append( getDifference( phiP, phi, phi=True) )\n",
    "            thetaDiff.append( getDifference( thetaP, theta, phi=False) )\n",
    "            y0Diff.append( getDifference( np.abs(y0P*100.), np.abs(y0), phi=False) )\n",
    "\n",
    "            #test = getDifference( np.abs(y0P*100.), np.abs(y0))\n",
    "            #if ( test > 100. ):\n",
    "            #    print(np.abs(y0P*100.), np.abs(y0))\n",
    "\n",
    "    return phiDiff, thetaDiff, y0Diff, hDiff, files"
   ]
  },
  {
   "cell_type": "code",
   "execution_count": 60,
   "metadata": {},
   "outputs": [],
   "source": [
    "from scipy.stats import circstd\n",
    "from scipy import signal\n",
    "from scipy import interpolate\n",
    "\n",
    "def getModelPredictions(tpIn):\n",
    "\n",
    "    phis = []\n",
    "    thetas = []\n",
    "    y0s = []\n",
    "    hs = []\n",
    "    files = []\n",
    "    \n",
    "    count = 0\n",
    "    \n",
    "    for file in windFiles:\n",
    "    \n",
    "        \"\"\"# fit values from filename\n",
    "        parts = file.split(\"/\")\n",
    "        fname = parts[-1]\n",
    "        parts = fname.split(\"_\")     \n",
    "        tp = parts[3]\n",
    "        phi = float(parts[7])\n",
    "        theta = float(parts[8])\n",
    "        y0 = float(parts[9])\n",
    "        radius = float(parts[10][:-4])\n",
    "        y0 = np.abs( (y0/radius)*100. )\n",
    "        h = int(parts[5])\"\"\"\n",
    "        \n",
    "        # fit values from filename\n",
    "        parts = file.split(\"/\")\n",
    "        fname = parts[-1]\n",
    "        fname = fname.replace(\".csv\",\"\")\n",
    "        part = cat.loc[cat['save_name'] == fname]\n",
    "        \n",
    "        tp = part['class'].item()\n",
    "        phi = float(part['phi'].item())\n",
    "        theta = float(part['theta'].item())\n",
    "        y0 = float(part['y0'].item())\n",
    "        radius = float(part['R'].item())\n",
    "        y0 = np.abs((y0/radius)*100)\n",
    "        h = part['H'].item()\n",
    "\n",
    "        if h == 'R':\n",
    "            h = 1\n",
    "        else:\n",
    "            h = -1\n",
    "        \n",
    "        if ( (tp == tpIn) ):\n",
    "        \n",
    "            # read the Wind data\n",
    "            time, bx, by, bz = readWind( file )\n",
    " \n",
    "            # NN input\n",
    "            x = np.zeros( shape=(1,50,3) )\n",
    "\n",
    "            # moving averages to smooth Wind            \n",
    "            newX = moving_average(bx, 5)\n",
    "            newY = moving_average(by, 5)\n",
    "            newZ = moving_average(bz, 5)\n",
    "            \n",
    "            xx = np.arange(0, len(newX), 1)\n",
    "\n",
    "            fx = interpolate.interp1d(xx, newX)\n",
    "            fy = interpolate.interp1d(xx, newY)\n",
    "            fz = interpolate.interp1d(xx, newZ)\n",
    "\n",
    "            xnew = np.linspace(0, len(newX)-1, num=50) # linspace included endpoint, arange does not\n",
    "            ynew = np.linspace(0, len(newY)-1, num=50)\n",
    "            znew = np.linspace(0, len(newZ)-1, num=50)\n",
    "            \n",
    "            newX = fx(xnew)   \n",
    "            newY = fy(ynew)\n",
    "            newZ = fz(znew)\n",
    "        \n",
    "            x[0,:,0] = newX\n",
    "            x[0,:,1] = newY\n",
    "            x[0,:,2] = newZ\n",
    "                \n",
    "            predictions = model.predict(x)\n",
    "            \"\"\"phiPredictions = predictions[0][0]\n",
    "            thetaPredictions = predictions[1][0]\n",
    "            y0Predictions = predictions[2][0]\n",
    "            hPredictions = predictions[3][0]\n",
    "\n",
    "            phiP, thetaP, y0P, hP = getPredictions( phiPredictions, thetaPredictions, y0Predictions, \\\n",
    "                                                       hPredictions )\"\"\"\n",
    "            phiP, thetaP, y0P, hP = getPredictions([predictions[0][0],predictions[count][1]], [predictions[0][2],predictions[0][3]], \\\n",
    "                            [predictions[0][4]], [predictions[0][5]] )\n",
    "            \n",
    "            #count += 1\n",
    "            windPredValues.append([phiP, thetaP, y0P, hP])\n",
    "            \n",
    "            \n",
    "            phis.append(phiP)\n",
    "            thetas.append(thetaP)\n",
    "            y0s.append(y0P)\n",
    "            hs.append(hP)\n",
    "            files.append(file)\n",
    "            \n",
    "    return files, phis, thetas, y0s, hs"
   ]
  },
  {
   "cell_type": "code",
   "execution_count": 61,
   "metadata": {},
   "outputs": [],
   "source": [
    "from scipy.stats import circstd\n",
    "from scipy import signal\n",
    "from scipy import interpolate \n",
    "\n",
    "def compareNNtoWindOrientation(tpIn, orientation, allTypes=False):\n",
    "\n",
    "    types = []\n",
    "    phiDiff = []\n",
    "    thetaDiff = []\n",
    "    y0Diff = []\n",
    "    hDiff = []\n",
    "    files = []\n",
    "    \n",
    "    count = 0\n",
    "    \n",
    "    for file in windFiles:\n",
    "    \n",
    "        \"\"\"# fit values from filename\n",
    "        parts = file.split(\"/\")\n",
    "        fname = parts[-1]\n",
    "        parts = fname.split(\"_\")      \n",
    "        tp = parts[3]\n",
    "        orien = parts[6]\n",
    "        phi = float(parts[7])\n",
    "        theta = float(parts[8])\n",
    "        y0 = float(parts[9])\n",
    "        radius = float(parts[10][:-4])\n",
    "        y0 = np.abs( (y0/radius)*100. )\n",
    "        h = int(parts[5])\"\"\"\n",
    "        \n",
    "        # fit values from filename\n",
    "        parts = file.split(\"/\")\n",
    "        fname = parts[-1]\n",
    "        fname = fname.replace(\".csv\",\"\")\n",
    "        part = cat.loc[cat['save_name'] == fname]\n",
    "        \n",
    "        orien = part['Configuration'].item()\n",
    "        tp = part['class'].item()\n",
    "        phi = float(part['phi'].item())\n",
    "        theta = float(part['theta'].item())\n",
    "        y0 = float(part['y0'].item())\n",
    "        radius = float(part['R'].item())\n",
    "        y0 = np.abs((y0/radius)*100)\n",
    "        h = part['H'].item()\n",
    "\n",
    "        if h == 'R':\n",
    "            h = 1\n",
    "        else:\n",
    "            h = -1\n",
    "        \n",
    "        if ( (tp == tpIn) and (orien == orientation) ):\n",
    "        \n",
    "            # read the Wind data\n",
    "            time, bx, by, bz = readWind( file )\n",
    " \n",
    "            # NN input\n",
    "            x = np.zeros( shape=(1,50,3) )\n",
    "\n",
    "            # moving averages to smooth Wind            \n",
    "            newX = moving_average(bx, 5)\n",
    "            newY = moving_average(by, 5)\n",
    "            newZ = moving_average(bz, 5)\n",
    "            \n",
    "            xx = np.arange(0, len(newX), 1)\n",
    "\n",
    "            fx = interpolate.interp1d(xx, newX)\n",
    "            fy = interpolate.interp1d(xx, newY)\n",
    "            fz = interpolate.interp1d(xx, newZ)\n",
    "\n",
    "            xnew = np.linspace(0, len(newX)-1, num=50) # linspace included endpoint, arange does not\n",
    "            ynew = np.linspace(0, len(newY)-1, num=50)\n",
    "            znew = np.linspace(0, len(newZ)-1, num=50)\n",
    "            \n",
    "            newX = fx(xnew)   \n",
    "            newY = fy(ynew)\n",
    "            newZ = fz(znew)\n",
    "        \n",
    "            x[0,:,0] = newX\n",
    "            x[0,:,1] = newY\n",
    "            x[0,:,2] = newZ\n",
    "                \n",
    "            predictions = model.predict(x)\n",
    "            \"\"\"phiPredictions = predictions[0][0]\n",
    "            thetaPredictions = predictions[1][0]\n",
    "            y0Predictions = predictions[2][0]\n",
    "            hPredictions = predictions[3][0]\n",
    "\n",
    "            phiP, thetaP, y0P, hP = getPredictions( phiPredictions, thetaPredictions, y0Predictions, \\\n",
    "                                                       hPredictions )\"\"\"\n",
    "            phiP, thetaP, y0P, hP = getPredictions([predictions[0][0],predictions[0][1]], [predictions[0][2],predictions[0][3]], \\\n",
    "                                                    [predictions[0][4]], [predictions[0][5]] )\n",
    "            \n",
    "            #count += 1\n",
    "            \n",
    "            files.append(file)\n",
    "                        \n",
    "            types.append( tp )\n",
    "            phiDiff.append( getDifference( phiP, phi, phi=True) )\n",
    "            thetaDiff.append( getDifference( thetaP, theta, phi=False) )\n",
    "            \n",
    "            test = getDifference( np.abs(y0P*100.), np.abs(y0))\n",
    "            if ( test > 100. ):\n",
    "                print(np.abs(y0P*100.), np.abs(y0))\n",
    "            \n",
    "            y0Diff.append( getDifference( np.abs(y0P*100.), np.abs(y0), phi=False) )\n",
    "            hDiff.append( getDifference( hP, h, phi=False) )\n",
    "            \n",
    "    return phiDiff, thetaDiff, y0Diff, hDiff, files"
   ]
  },
  {
   "cell_type": "markdown",
   "metadata": {},
   "source": [
    "#### Fr type"
   ]
  },
  {
   "cell_type": "code",
   "execution_count": 62,
   "metadata": {},
   "outputs": [],
   "source": [
    "phiDiff, thetaDiff, y0Diff, hDiff, files = compareNNtoWind('Fr')"
   ]
  },
  {
   "cell_type": "code",
   "execution_count": 63,
   "metadata": {},
   "outputs": [],
   "source": [
    "files, phis, thetas, y0s, hs = getModelPredictions('Fr')"
   ]
  },
  {
   "cell_type": "code",
   "execution_count": 64,
   "metadata": {},
   "outputs": [],
   "source": [
    "def getLine(phi, theta, y0, h):\n",
    "    phi = str( np.round(phi,0) )\n",
    "    theta = str( np.round(theta,0) )\n",
    "    y0 = str( np.round(y0*100.,0) )\n",
    "    h = str(h)\n",
    "    line = phi + ',' + theta + ',' + y0 + ',' + h + '\\n'\n",
    "    return line"
   ]
  },
  {
   "cell_type": "code",
   "execution_count": 65,
   "metadata": {},
   "outputs": [],
   "source": [
    "#f = open('/home/narock/notebooks/fluxrope_ml/current/results/wind_predictions.csv', 'w')\n",
    "f = open('results/wind_predictions.csv', 'w')\n",
    "\n",
    "\n",
    "f.write('Year,Start DOY,Phi,Theta,Y0,H\\n')\n",
    "for ix, file in enumerate(files):\n",
    "    parts = file.split('/')\n",
    "    fname = parts[-1]\n",
    "    parts = fname.split('_')\n",
    "    line = getLine(phis[ix], thetas[ix], y0s[ix], hs[ix])\n",
    "    line = parts[1] + ',' + parts[2] + ',' + line\n",
    "    f.write(line)\n",
    "f.close()"
   ]
  },
  {
   "cell_type": "markdown",
   "metadata": {},
   "source": [
    "### Without Smoothing"
   ]
  },
  {
   "cell_type": "code",
   "execution_count": 66,
   "metadata": {},
   "outputs": [
    {
     "name": "stdout",
     "output_type": "stream",
     "text": [
      "Incorrect H: 15\n"
     ]
    },
    {
     "data": {
      "text/plain": [
       "Text(0.5, 1.0, 'H')"
      ]
     },
     "execution_count": 66,
     "metadata": {},
     "output_type": "execute_result"
    },
    {
     "data": {
      "image/png": "[encoded data removed]",
      "text/plain": [
       "<Figure size 432x288 with 4 Axes>"
      ]
     },
     "metadata": {
      "needs_background": "light"
     },
     "output_type": "display_data"
    }
   ],
   "source": [
    "fig, (ax1, ax2, ax3, ax4) = plt.subplots(1, 4)\n",
    "ax1.hist(phiDiff, bins=np.arange(-5,175,10))\n",
    "ax2.hist(thetaDiff, bins=np.arange(-5,110,10))\n",
    "ax3.hist(y0Diff, bins=np.arange(-5,175,10))\n",
    "\n",
    "#ax3.hist(dY0, )\n",
    "#ax2.set_xticks([0,5,10,15,20])\n",
    "\n",
    "d = np.abs( hDiff )\n",
    "correct = (d == 0).sum()\n",
    "incorrect = ( d == 2).sum()\n",
    "print(\"Incorrect H:\", incorrect)\n",
    "bars = [correct, incorrect]\n",
    "ax4.bar( [0,2], bars, tick_label=['Correct', 'Incorrect'] )\n",
    "\n",
    "#ax4.hist(hDiff)\n",
    "fig.subplots_adjust(right=3.1)\n",
    "ax1.set_title('Phi')\n",
    "ax2.set_title('Theta')\n",
    "ax3.set_title('Y0')\n",
    "ax4.set_title('H')"
   ]
  },
  {
   "cell_type": "markdown",
   "metadata": {},
   "source": [
    "### With Smoothing"
   ]
  },
  {
   "cell_type": "code",
   "execution_count": null,
   "metadata": {},
   "outputs": [
    {
     "ename": "NameError",
     "evalue": "name 'plt' is not defined",
     "output_type": "error",
     "traceback": [
      "\u001b[0;31m---------------------------------------------------------------------------\u001b[0m",
      "\u001b[0;31mNameError\u001b[0m                                 Traceback (most recent call last)",
      "Input \u001b[0;32mIn [1]\u001b[0m, in \u001b[0;36m<cell line: 1>\u001b[0;34m()\u001b[0m\n\u001b[0;32m----> 1\u001b[0m fig, (ax1, ax2, ax3, ax4) \u001b[38;5;241m=\u001b[39m \u001b[43mplt\u001b[49m\u001b[38;5;241m.\u001b[39msubplots(\u001b[38;5;241m1\u001b[39m, \u001b[38;5;241m4\u001b[39m)\n\u001b[1;32m      2\u001b[0m ax1\u001b[38;5;241m.\u001b[39mhist(phiDiff, bins\u001b[38;5;241m=\u001b[39mnp\u001b[38;5;241m.\u001b[39marange(\u001b[38;5;241m0\u001b[39m,\u001b[38;5;241m175\u001b[39m,\u001b[38;5;241m10\u001b[39m))\n\u001b[1;32m      3\u001b[0m ax2\u001b[38;5;241m.\u001b[39mhist(thetaDiff, bins\u001b[38;5;241m=\u001b[39mnp\u001b[38;5;241m.\u001b[39marange(\u001b[38;5;241m0\u001b[39m,\u001b[38;5;241m110\u001b[39m,\u001b[38;5;241m10\u001b[39m))\n",
      "\u001b[0;31mNameError\u001b[0m: name 'plt' is not defined"
     ]
    }
   ],
   "source": [
    "fig, (ax1, ax2, ax3, ax4) = plt.subplots(1, 4)\n",
    "ax1.hist(phiDiff, bins=np.arange(0,175,10))\n",
    "ax2.hist(thetaDiff, bins=np.arange(0,110,10))\n",
    "ax3.hist(y0Diff, bins=np.arange(0,175,10))\n",
    "\n",
    "#ax3.hist(dY0, )\n",
    "#ax2.set_xticks([0,5,10,15,20])\n",
    "\n",
    "d = np.abs( hDiff )\n",
    "correct = (d == 0).sum()\n",
    "incorrect = ( d == 2).sum()\n",
    "print(\"Correct H:\", correct)\n",
    "print(\"Incorrect H:\", incorrect)\n",
    "bars = [correct, incorrect]\n",
    "ax4.bar( [0,2], bars, tick_label=['Correct', 'Incorrect'] )\n",
    "\n",
    "#ax4.hist(hDiff)\n",
    "fig.subplots_adjust(right=3.1)\n",
    "#ax1.set_title('Phi', fontsize=25)\n",
    "#ax2.set_title('Theta', fontsize=25)\n",
    "#ax3.set_title('Y0', fontsize=25)\n",
    "#ax4.set_title('H', fontsize=25)\n",
    "\n",
    "ax1.tick_params(axis='x', labelsize=20)\n",
    "ax2.tick_params(axis='x', labelsize=20)\n",
    "ax3.tick_params(axis='x', labelsize=20)\n",
    "ax4.tick_params(axis='x', labelsize=20)\n",
    "ax1.tick_params(axis='y', labelsize=20)\n",
    "ax2.tick_params(axis='y', labelsize=20)\n",
    "ax3.tick_params(axis='y', labelsize=20)\n",
    "ax4.tick_params(axis='y', labelsize=20)\n",
    "\n",
    "ax1.set_ylim(0,65)\n",
    "ax2.set_ylim(0,65)\n",
    "ax3.set_ylim(0,65)\n",
    "ax1.set_xticks([0,50,100,150])\n",
    "ax2.set_xticks([0,50,100,150])\n",
    "ax3.set_xticks([0,50,100,150])\n",
    "\n",
    "ax1.set_ylabel('Occurences', fontsize=20)\n",
    "ax1.set_xlabel('Degrees', fontsize=20)\n",
    "ax2.set_xlabel('Degrees', fontsize=20)\n",
    "ax3.set_xlabel('%', fontsize=30)"
   ]
  },
  {
   "cell_type": "markdown",
   "metadata": {},
   "source": [
    "#### Only South to North Fr events"
   ]
  },
  {
   "cell_type": "code",
   "execution_count": 68,
   "metadata": {},
   "outputs": [
    {
     "name": "stdout",
     "output_type": "stream",
     "text": [
      "Incorrect H: 1\n"
     ]
    },
    {
     "data": {
      "text/plain": [
       "Text(0.5, 0, '%')"
      ]
     },
     "execution_count": 68,
     "metadata": {},
     "output_type": "execute_result"
    },
    {
     "data": {
      "image/png": "[encoded data removed]",
      "text/plain": [
       "<Figure size 432x288 with 4 Axes>"
      ]
     },
     "metadata": {
      "needs_background": "light"
     },
     "output_type": "display_data"
    }
   ],
   "source": [
    "phiDiff, thetaDiff, y0Diff, hDiff, files = compareNNtoWindOrientation('Fr', 'SN')\n",
    "fig, (ax1, ax2, ax3, ax4) = plt.subplots(1, 4)\n",
    "ax1.hist(phiDiff, bins=np.arange(0,145,10))\n",
    "ax2.hist(thetaDiff, bins=np.arange(0,70,10))\n",
    "ax3.hist(y0Diff, bins=np.arange(0,110,10))\n",
    "\n",
    "d = np.abs( hDiff )\n",
    "correct = (d == 0).sum()\n",
    "incorrect = ( d == 2).sum()\n",
    "print(\"Incorrect H:\", incorrect)\n",
    "bars = [correct, incorrect]\n",
    "ax4.bar( [0,2], bars, tick_label=['Correct', 'Incorrect'] )\n",
    "\n",
    "fig.subplots_adjust(right=3.1)\n",
    "#ax1.set_title('Phi', fontsize=25)\n",
    "#ax2.set_title('Theta', fontsize=25)\n",
    "#ax3.set_title('Y0', fontsize=25)\n",
    "#ax4.set_title('H', fontsize=25)\n",
    "\n",
    "ax1.tick_params(axis='x', labelsize=20)\n",
    "ax2.tick_params(axis='x', labelsize=20)\n",
    "ax3.tick_params(axis='x', labelsize=20)\n",
    "ax4.tick_params(axis='x', labelsize=20)\n",
    "ax1.tick_params(axis='y', labelsize=20)\n",
    "ax2.tick_params(axis='y', labelsize=20)\n",
    "ax3.tick_params(axis='y', labelsize=20)\n",
    "ax4.tick_params(axis='y', labelsize=20)\n",
    "\n",
    "ax1.set_ylim(0,20)\n",
    "ax2.set_ylim(0,20)\n",
    "ax3.set_ylim(0,20)\n",
    "ax1.set_xticks([0,50,100,150])\n",
    "ax2.set_xticks([0,50,100,150])\n",
    "ax3.set_xticks([0,50,100,150])\n",
    "\n",
    "ax1.set_ylabel('Occurences', fontsize=20)\n",
    "ax1.set_xlabel('Degrees', fontsize=20)\n",
    "ax2.set_xlabel('Degrees', fontsize=20)\n",
    "ax3.set_xlabel('%', fontsize=30)"
   ]
  },
  {
   "cell_type": "code",
   "execution_count": 69,
   "metadata": {},
   "outputs": [
    {
     "name": "stdout",
     "output_type": "stream",
     "text": [
      "14 31\n"
     ]
    }
   ],
   "source": [
    "sn_total_error = ( np.array(phiDiff)/180. ) + ( np.array(thetaDiff)/180. ) + ( np.array(y0Diff)/100. ) + d/2.\n",
    "ix = np.where( sn_total_error <= 0.42 )\n",
    "print( len(ix[0]), len(sn_total_error) )"
   ]
  },
  {
   "cell_type": "markdown",
   "metadata": {},
   "source": [
    "#### Only North to South Fr events"
   ]
  },
  {
   "cell_type": "code",
   "execution_count": 70,
   "metadata": {},
   "outputs": [
    {
     "name": "stdout",
     "output_type": "stream",
     "text": [
      "Incorrect H: 5\n"
     ]
    },
    {
     "data": {
      "text/plain": [
       "Text(0.5, 0, '%')"
      ]
     },
     "execution_count": 70,
     "metadata": {},
     "output_type": "execute_result"
    },
    {
     "data": {
      "image/png": "[encoded data removed]",
      "text/plain": [
       "<Figure size 432x288 with 4 Axes>"
      ]
     },
     "metadata": {
      "needs_background": "light"
     },
     "output_type": "display_data"
    }
   ],
   "source": [
    "phiDiff, thetaDiff, y0Diff, hDiff, files = compareNNtoWindOrientation('Fr', 'NS')\n",
    "fig, (ax1, ax2, ax3, ax4) = plt.subplots(1, 4)\n",
    "ax1.hist(phiDiff, bins=np.arange(0,155,10))\n",
    "ax2.hist(thetaDiff, bins=np.arange(0,60,10))\n",
    "ax3.hist(y0Diff, bins=np.arange(0,110,10))\n",
    "\n",
    "d = np.abs( hDiff )\n",
    "correct = (d == 0).sum()\n",
    "incorrect = ( d == 2).sum()\n",
    "print(\"Incorrect H:\", incorrect)\n",
    "bars = [correct, incorrect]\n",
    "ax4.bar( [0,2], bars, tick_label=['Correct', 'Incorrect'] )\n",
    "\n",
    "fig.subplots_adjust(right=3.1)\n",
    "#ax1.set_title('Phi', fontsize=25)\n",
    "#ax2.set_title('Theta', fontsize=25)\n",
    "#ax3.set_title('Y0', fontsize=25)\n",
    "#ax4.set_title('H', fontsize=25)\n",
    "\n",
    "ax1.tick_params(axis='x', labelsize=20)\n",
    "ax2.tick_params(axis='x', labelsize=20)\n",
    "ax3.tick_params(axis='x', labelsize=20)\n",
    "ax4.tick_params(axis='x', labelsize=20)\n",
    "ax1.tick_params(axis='y', labelsize=20)\n",
    "ax2.tick_params(axis='y', labelsize=20)\n",
    "ax3.tick_params(axis='y', labelsize=20)\n",
    "ax4.tick_params(axis='y', labelsize=20)\n",
    "\n",
    "ax1.set_ylim(0,15)\n",
    "ax2.set_ylim(0,15)\n",
    "ax3.set_ylim(0,15)\n",
    "ax1.set_xticks([0,50,100,150])\n",
    "ax2.set_xticks([0,50,100,150])\n",
    "ax3.set_xticks([0,50,100,150])\n",
    "\n",
    "ax1.set_ylabel('Occurences', fontsize=20)\n",
    "ax1.set_xlabel('Degrees', fontsize=20)\n",
    "ax2.set_xlabel('Degrees', fontsize=20)\n",
    "ax3.set_xlabel('%', fontsize=30)"
   ]
  },
  {
   "cell_type": "code",
   "execution_count": 71,
   "metadata": {},
   "outputs": [
    {
     "name": "stdout",
     "output_type": "stream",
     "text": [
      "12 30\n"
     ]
    }
   ],
   "source": [
    "ns_total_error = ( np.array(phiDiff)/180. ) + ( np.array(thetaDiff)/180. ) + ( np.array(y0Diff)/100. ) + d/2.\n",
    "ix = np.where( ns_total_error <= 0.42 )\n",
    "print( len(ix[0]), len(ns_total_error) )"
   ]
  },
  {
   "cell_type": "code",
   "execution_count": 72,
   "metadata": {},
   "outputs": [
    {
     "name": "stdout",
     "output_type": "stream",
     "text": [
      "44.26229508196721\n"
     ]
    }
   ],
   "source": [
    "print( ((13+14)/(30+31))*100. )"
   ]
  },
  {
   "cell_type": "code",
   "execution_count": 73,
   "metadata": {},
   "outputs": [
    {
     "name": "stdout",
     "output_type": "stream",
     "text": [
      "1.813135460166714\n"
     ]
    }
   ],
   "source": [
    "print( np.max(sn_total_error) )"
   ]
  },
  {
   "cell_type": "markdown",
   "metadata": {},
   "source": [
    "#### Only North events"
   ]
  },
  {
   "cell_type": "code",
   "execution_count": 74,
   "metadata": {},
   "outputs": [
    {
     "name": "stdout",
     "output_type": "stream",
     "text": [
      "Incorrect H: 1\n"
     ]
    },
    {
     "data": {
      "text/plain": [
       "Text(0.5, 0, '%')"
      ]
     },
     "execution_count": 74,
     "metadata": {},
     "output_type": "execute_result"
    },
    {
     "data": {
      "image/png": "[encoded data removed]",
      "text/plain": [
       "<Figure size 432x288 with 4 Axes>"
      ]
     },
     "metadata": {
      "needs_background": "light"
     },
     "output_type": "display_data"
    }
   ],
   "source": [
    "phiDiff, thetaDiff, y0Diff, hDiff, files = compareNNtoWindOrientation('Fr', 'N')\n",
    "fig, (ax1, ax2, ax3, ax4) = plt.subplots(1, 4)\n",
    "ax1.hist(phiDiff, bins=np.arange(0,175,10))\n",
    "ax2.hist(thetaDiff, bins=np.arange(0,175,10))\n",
    "ax3.hist(y0Diff, bins=np.arange(0,90,10))\n",
    "\n",
    "d = np.abs( hDiff )\n",
    "correct = (d == 0).sum()\n",
    "incorrect = ( d == 2).sum()\n",
    "print(\"Incorrect H:\", incorrect)\n",
    "bars = [correct, incorrect]\n",
    "ax4.bar( [0,2], bars, tick_label=['Correct', 'Incorrect'] )\n",
    "\n",
    "fig.subplots_adjust(right=3.1)\n",
    "#ax1.set_title('Phi', fontsize=25)\n",
    "#ax2.set_title('Theta', fontsize=25)\n",
    "#ax3.set_title('Y0', fontsize=25)\n",
    "#ax4.set_title('H', fontsize=25)\n",
    "\n",
    "ax1.tick_params(axis='x', labelsize=20)\n",
    "ax2.tick_params(axis='x', labelsize=20)\n",
    "ax3.tick_params(axis='x', labelsize=20)\n",
    "ax4.tick_params(axis='x', labelsize=20)\n",
    "ax1.tick_params(axis='y', labelsize=20)\n",
    "ax2.tick_params(axis='y', labelsize=20)\n",
    "ax3.tick_params(axis='y', labelsize=20)\n",
    "ax4.tick_params(axis='y', labelsize=20)\n",
    "\n",
    "ax1.set_ylim(0,8)\n",
    "ax2.set_ylim(0,8)\n",
    "ax3.set_ylim(0,8)\n",
    "ax1.set_xticks([0,50,100,150])\n",
    "ax2.set_xticks([0,50,100,150])\n",
    "ax3.set_xticks([0,50,100,150])\n",
    "ax4.set_yticks([0,5,10])\n",
    "\n",
    "ax1.set_ylabel('Occurences', fontsize=20)\n",
    "ax1.set_xlabel('Degrees', fontsize=20)\n",
    "ax2.set_xlabel('Degrees', fontsize=20)\n",
    "ax3.set_xlabel('%', fontsize=30)"
   ]
  },
  {
   "cell_type": "markdown",
   "metadata": {},
   "source": [
    "#### Only South events"
   ]
  },
  {
   "cell_type": "code",
   "execution_count": 75,
   "metadata": {},
   "outputs": [
    {
     "name": "stdout",
     "output_type": "stream",
     "text": [
      "Incorrect H: 2\n"
     ]
    },
    {
     "data": {
      "text/plain": [
       "Text(0.5, 0, '%')"
      ]
     },
     "execution_count": 75,
     "metadata": {},
     "output_type": "execute_result"
    },
    {
     "data": {
      "image/png": "[encoded data removed]",
      "text/plain": [
       "<Figure size 432x288 with 4 Axes>"
      ]
     },
     "metadata": {
      "needs_background": "light"
     },
     "output_type": "display_data"
    }
   ],
   "source": [
    "phiDiff, thetaDiff, y0Diff, hDiff, files = compareNNtoWindOrientation('Fr', 'S')\n",
    "fig, (ax1, ax2, ax3, ax4) = plt.subplots(1, 4)\n",
    "ax1.hist(phiDiff, bins=np.arange(0,180,10))\n",
    "ax2.hist(thetaDiff, bins=np.arange(0,90,10))\n",
    "ax3.hist(y0Diff, bins=np.arange(0,100,10))\n",
    "\n",
    "d = np.abs( hDiff )\n",
    "correct = (d == 0).sum()\n",
    "incorrect = ( d == 2).sum()\n",
    "print(\"Incorrect H:\", incorrect)\n",
    "bars = [correct, incorrect]\n",
    "ax4.bar( [0,2], bars, tick_label=['Correct', 'Incorrect'] )\n",
    "\n",
    "fig.subplots_adjust(right=3.1)\n",
    "#ax1.set_title('Phi', fontsize=25)\n",
    "#ax2.set_title('Theta', fontsize=25)\n",
    "#ax3.set_title('Y0', fontsize=25)\n",
    "#ax4.set_title('H', fontsize=25)\n",
    "\n",
    "ax1.tick_params(axis='x', labelsize=20)\n",
    "ax2.tick_params(axis='x', labelsize=20)\n",
    "ax3.tick_params(axis='x', labelsize=20)\n",
    "ax4.tick_params(axis='x', labelsize=20)\n",
    "ax1.tick_params(axis='y', labelsize=20)\n",
    "ax2.tick_params(axis='y', labelsize=20)\n",
    "ax3.tick_params(axis='y', labelsize=20)\n",
    "ax4.tick_params(axis='y', labelsize=20)\n",
    "\n",
    "ax1.set_ylim(0,10)\n",
    "ax2.set_ylim(0,10)\n",
    "ax3.set_ylim(0,10)\n",
    "ax1.set_xticks([0,50,100,150])\n",
    "ax2.set_xticks([0,50,100,150])\n",
    "ax3.set_xticks([0,50,100,150])\n",
    "ax4.set_yticks([0,5,10])\n",
    "\n",
    "ax1.set_ylabel('Occurences', fontsize=20)\n",
    "ax1.set_xlabel('Degrees', fontsize=20)\n",
    "ax2.set_xlabel('Degrees', fontsize=20)\n",
    "ax3.set_xlabel('%', fontsize=30)"
   ]
  },
  {
   "cell_type": "markdown",
   "metadata": {},
   "source": [
    "#### F+ type"
   ]
  },
  {
   "cell_type": "code",
   "execution_count": 76,
   "metadata": {},
   "outputs": [],
   "source": [
    "phiDiff, thetaDiff, y0Diff, hDiff, files = compareNNtoWind('F+')"
   ]
  },
  {
   "cell_type": "code",
   "execution_count": 77,
   "metadata": {},
   "outputs": [
    {
     "name": "stdout",
     "output_type": "stream",
     "text": [
      "Incorrect H: 5\n"
     ]
    },
    {
     "data": {
      "text/plain": [
       "Text(0.5, 0, '%')"
      ]
     },
     "execution_count": 77,
     "metadata": {},
     "output_type": "execute_result"
    },
    {
     "data": {
      "image/png": "[encoded data removed]",
      "text/plain": [
       "<Figure size 432x288 with 4 Axes>"
      ]
     },
     "metadata": {
      "needs_background": "light"
     },
     "output_type": "display_data"
    }
   ],
   "source": [
    "fig, (ax1, ax2, ax3, ax4) = plt.subplots(1, 4)\n",
    "ax1.hist(phiDiff, bins=np.arange(0,180,10))\n",
    "ax2.hist(thetaDiff, bins=np.arange(0,90,10))\n",
    "ax3.hist(y0Diff, bins=np.arange(0,170,10))\n",
    "\n",
    "d = np.abs( hDiff )\n",
    "correct = (d == 0).sum()\n",
    "incorrect = ( d == 2).sum()\n",
    "print(\"Incorrect H:\", incorrect)\n",
    "bars = [correct, incorrect]\n",
    "ax4.bar( [0,2], bars, tick_label=['Correct', 'Incorrect'] )\n",
    "\n",
    "fig.subplots_adjust(right=3.1)\n",
    "#ax1.set_title('Phi', fontsize=25)\n",
    "#ax2.set_title('Theta', fontsize=25)\n",
    "#ax3.set_title('Y0', fontsize=25)\n",
    "#ax4.set_title('H', fontsize=25)\n",
    "\n",
    "ax1.tick_params(axis='x', labelsize=20)\n",
    "ax2.tick_params(axis='x', labelsize=20)\n",
    "ax3.tick_params(axis='x', labelsize=20)\n",
    "ax4.tick_params(axis='x', labelsize=20)\n",
    "ax1.tick_params(axis='y', labelsize=20)\n",
    "ax2.tick_params(axis='y', labelsize=20)\n",
    "ax3.tick_params(axis='y', labelsize=20)\n",
    "ax4.tick_params(axis='y', labelsize=20)\n",
    "\n",
    "ax1.set_ylim(0,40)\n",
    "ax2.set_ylim(0,40)\n",
    "ax3.set_ylim(0,40)\n",
    "ax1.set_xticks([0,50,100,150])\n",
    "ax2.set_xticks([0,50,100,150])\n",
    "ax3.set_xticks([0,50,100,150])\n",
    "#ax4.set_yticks([0,5,10])\n",
    "\n",
    "ax1.set_ylabel('Occurences', fontsize=20)\n",
    "ax1.set_xlabel('Degrees', fontsize=20)\n",
    "ax2.set_xlabel('Degrees', fontsize=20)\n",
    "ax3.set_xlabel('%', fontsize=30)"
   ]
  },
  {
   "cell_type": "markdown",
   "metadata": {},
   "source": [
    "#### F- type"
   ]
  },
  {
   "cell_type": "code",
   "execution_count": 78,
   "metadata": {},
   "outputs": [],
   "source": [
    "phiDiff, thetaDiff, y0Diff, hDiff, files = compareNNtoWind('F-')"
   ]
  },
  {
   "cell_type": "code",
   "execution_count": 79,
   "metadata": {},
   "outputs": [
    {
     "name": "stdout",
     "output_type": "stream",
     "text": [
      "Incorrect H: 21\n"
     ]
    },
    {
     "data": {
      "text/plain": [
       "Text(0.5, 0, '%')"
      ]
     },
     "execution_count": 79,
     "metadata": {},
     "output_type": "execute_result"
    },
    {
     "data": {
      "image/png": "[encoded data removed]",
      "text/plain": [
       "<Figure size 432x288 with 4 Axes>"
      ]
     },
     "metadata": {
      "needs_background": "light"
     },
     "output_type": "display_data"
    }
   ],
   "source": [
    "fig, (ax1, ax2, ax3, ax4) = plt.subplots(1, 4)\n",
    "ax1.hist(phiDiff, bins=np.arange(0,180,10))\n",
    "ax2.hist(thetaDiff, bins=np.arange(0,130,10))\n",
    "ax3.hist(y0Diff, bins=np.arange(0,125,10))\n",
    "\n",
    "d = np.abs( hDiff )\n",
    "correct = (d == 0).sum()\n",
    "incorrect = ( d == 2).sum()\n",
    "print(\"Incorrect H:\", incorrect)\n",
    "bars = [correct, incorrect]\n",
    "ax4.bar( [0,2], bars, tick_label=['Correct', 'Incorrect'] )\n",
    "\n",
    "fig.subplots_adjust(right=3.1)\n",
    "#ax1.set_title('Phi', fontsize=25)\n",
    "#ax2.set_title('Theta', fontsize=25)\n",
    "#ax3.set_title('Y0', fontsize=25)\n",
    "#ax4.set_title('H', fontsize=25)\n",
    "\n",
    "ax1.tick_params(axis='x', labelsize=20)\n",
    "ax2.tick_params(axis='x', labelsize=20)\n",
    "ax3.tick_params(axis='x', labelsize=20)\n",
    "ax4.tick_params(axis='x', labelsize=20)\n",
    "ax1.tick_params(axis='y', labelsize=20)\n",
    "ax2.tick_params(axis='y', labelsize=20)\n",
    "ax3.tick_params(axis='y', labelsize=20)\n",
    "ax4.tick_params(axis='y', labelsize=20)\n",
    "\n",
    "ax1.set_ylim(0,25)\n",
    "ax2.set_ylim(0,25)\n",
    "ax3.set_ylim(0,25)\n",
    "ax1.set_xticks([0,50,100,150])\n",
    "ax2.set_xticks([0,50,100,150])\n",
    "ax3.set_xticks([0,50,100,150])\n",
    "\n",
    "ax1.set_ylabel('Occurences', fontsize=20)\n",
    "ax1.set_xlabel('Degrees', fontsize=20)\n",
    "ax2.set_xlabel('Degrees', fontsize=20)\n",
    "ax3.set_xlabel('%', fontsize=30)"
   ]
  },
  {
   "cell_type": "markdown",
   "metadata": {},
   "source": [
    "#### All Wind Fluxrope types"
   ]
  },
  {
   "cell_type": "code",
   "execution_count": 80,
   "metadata": {},
   "outputs": [],
   "source": [
    "phiDiff, thetaDiff, y0Diff, hDiff, files = compareNNtoWind(' ', allTypes=True)"
   ]
  },
  {
   "cell_type": "code",
   "execution_count": 81,
   "metadata": {},
   "outputs": [
    {
     "name": "stdout",
     "output_type": "stream",
     "text": [
      "Incorrect H: 41\n"
     ]
    },
    {
     "data": {
      "text/plain": [
       "Text(0.5, 0, '%')"
      ]
     },
     "execution_count": 81,
     "metadata": {},
     "output_type": "execute_result"
    },
    {
     "data": {
      "image/png": "[encoded data removed]",
      "text/plain": [
       "<Figure size 432x288 with 4 Axes>"
      ]
     },
     "metadata": {
      "needs_background": "light"
     },
     "output_type": "display_data"
    }
   ],
   "source": [
    "fig, (ax1, ax2, ax3, ax4) = plt.subplots(1, 4)\n",
    "ax1.hist(phiDiff, bins=np.arange(0,180,10))\n",
    "ax2.hist(thetaDiff, bins=np.arange(0,130,10))\n",
    "ax3.hist(y0Diff, bins=np.arange(0,180,10))\n",
    "\n",
    "d = np.abs( hDiff )\n",
    "correct = (d == 0).sum()\n",
    "incorrect = ( d == 2).sum()\n",
    "print(\"Incorrect H:\", incorrect)\n",
    "bars = [correct, incorrect]\n",
    "ax4.bar( [0,2], bars, tick_label=['Correct', 'Incorrect'] )\n",
    "\n",
    "fig.subplots_adjust(right=3.1)\n",
    "#ax1.set_title('Phi', fontsize=25)\n",
    "#ax2.set_title('Theta', fontsize=25)\n",
    "#ax3.set_title('Y0', fontsize=25)\n",
    "#ax4.set_title('H', fontsize=25)\n",
    "\n",
    "ax1.tick_params(axis='x', labelsize=20)\n",
    "ax2.tick_params(axis='x', labelsize=20)\n",
    "ax3.tick_params(axis='x', labelsize=20)\n",
    "ax4.tick_params(axis='x', labelsize=20)\n",
    "ax1.tick_params(axis='y', labelsize=20)\n",
    "ax2.tick_params(axis='y', labelsize=20)\n",
    "ax3.tick_params(axis='y', labelsize=20)\n",
    "ax4.tick_params(axis='y', labelsize=20)\n",
    "\n",
    "ax1.set_ylim(0,125)\n",
    "ax2.set_ylim(0,125)\n",
    "ax3.set_ylim(0,125)\n",
    "ax1.set_xticks([0,50,100,150])\n",
    "ax2.set_xticks([0,50,100,150])\n",
    "ax3.set_xticks([0,50,100,150])\n",
    "\n",
    "ax1.set_ylabel('Occurences', fontsize=20)\n",
    "ax1.set_xlabel('Degrees', fontsize=20)\n",
    "ax2.set_xlabel('Degrees', fontsize=20)\n",
    "ax3.set_xlabel('%', fontsize=30)"
   ]
  },
  {
   "cell_type": "markdown",
   "metadata": {},
   "source": [
    "#### Find a Fr Wind event we did really well with"
   ]
  },
  {
   "cell_type": "code",
   "execution_count": 82,
   "metadata": {},
   "outputs": [],
   "source": [
    "phiDiff, thetaDiff, y0Diff, hDiff, files = compareNNtoWind('Fr')"
   ]
  },
  {
   "cell_type": "raw",
   "metadata": {},
   "source": [
    "Plot 1 is lambda vs inclination angle color coded by (phi actual – phi predicted)\n",
    "\n",
    "Plot 2 is lambda vs inclination angle color coded by (theta actual – theta predicted)\n",
    "\n",
    "Plot 3 is lambda vs inclination angle color coded by (y0 actual – y0 predicted)\n",
    "\n",
    "Plot 4 is lambda vs inclination angle color coded by if H is correct (for example blue if ‘yes’ and red if ‘no’)"
   ]
  },
  {
   "cell_type": "code",
   "execution_count": 137,
   "metadata": {},
   "outputs": [
    {
     "data": {
      "text/plain": [
       "Text(0.5, 0, 'Total Error')"
      ]
     },
     "execution_count": 137,
     "metadata": {},
     "output_type": "execute_result"
    },
    {
     "data": {
      "image/png": "[encoded data removed]",
      "text/plain": [
       "<Figure size 432x288 with 1 Axes>"
      ]
     },
     "metadata": {
      "needs_background": "light"
     },
     "output_type": "display_data"
    }
   ],
   "source": [
    "d = np.abs( hDiff )\n",
    "correct = (d == 0).sum()\n",
    "incorrect = ( d == 2).sum()\n",
    "\n",
    "total_error = ( np.array(phiDiff)/180. ) + ( np.array(thetaDiff)/180. ) + ( np.array(y0Diff)/100. ) + d/2.\n",
    "\n",
    "phiP = []\n",
    "thetaP = []\n",
    "y0P = []\n",
    "hP = []\n",
    "errorTotal = []\n",
    "lambdas = []\n",
    "incs = []\n",
    "\n",
    "phiError = []\n",
    "thetaError = []\n",
    "y0Error = []\n",
    "hError = []\n",
    "\n",
    "#print(len(windPredValues))\n",
    "\n",
    "if(len(total_error) == len(windPredValues)):\n",
    "    for i in range(len(total_error)):\n",
    "        #if (total_error[i] ) > 1:\n",
    "            #print(\"Phi: \" + str(phiDiff[i]/180.) + \", Theta: \" + str(thetaDiff[i]/180.) + \", Y0: \" + str(y0Diff[i]/100.) + \", H: \" + str(d[i]/2.) )\n",
    "            #if(d[i]/2. == 1):\n",
    "                phiError.append(phiDiff[i]/180.)\n",
    "                thetaError.append(thetaDiff[i]/180.)\n",
    "                y0Error.append(y0Diff[i]/100.)\n",
    "                hError.append(d[i]/2)\n",
    "                \n",
    "                phiP.append(windPredValues[i][0]/180.)\n",
    "                thetaP.append(windPredValues[i][1]/180.)\n",
    "                y0P.append(windPredValues[i][2]/100.)\n",
    "                hP.append(windPredValues[i][3]/2.)      \n",
    "                errorTotal.append(total_error[i])\n",
    "                \n",
    "                th = np.deg2rad(windPredValues[i][0])\n",
    "                ph = np.deg2rad(windPredValues[i][1])\n",
    "\n",
    "                lmbda = np.arcsin( np.cos(th) * np.cos(ph) )\n",
    "                inc = np.arctan( np.tan(th) / np.abs(np.sin(ph)) )\n",
    "\n",
    "                # convert back to degrees\n",
    "                lambdas.append( np.rad2deg(lmbda) )\n",
    "                incs.append( np.rad2deg(inc) )\n",
    "else:\n",
    "    print(\"Error\")\n",
    "\n",
    "        \n",
    "\n",
    "plt.hist(total_error, bins=np.arange(0, 4, .42))\n",
    "plt.title('Wind Events with 1D CNN', fontsize=20)\n",
    "plt.ylabel('Occurrences', fontsize=20)\n",
    "plt.xlabel('Total Error', fontsize=20)\n"
   ]
  },
  {
   "cell_type": "code",
   "execution_count": 138,
   "metadata": {},
   "outputs": [
    {
     "data": {
      "text/plain": [
       "Text(0, 0.5, 'Inclination Angle')"
      ]
     },
     "execution_count": 138,
     "metadata": {},
     "output_type": "execute_result"
    },
    {
     "data": {
      "image/png": "[encoded data removed]",
      "text/plain": [
       "<Figure size 432x288 with 2 Axes>"
      ]
     },
     "metadata": {
      "needs_background": "light"
     },
     "output_type": "display_data"
    }
   ],
   "source": [
    "plt.scatter(lambdas, incs, c=phiError)\n",
    "plt.title(\"Phi Error\")\n",
    "plt.colorbar()\n",
    "plt.xlabel('lambdas')\n",
    "plt.ylabel('Inclination Angle')"
   ]
  },
  {
   "cell_type": "code",
   "execution_count": 139,
   "metadata": {},
   "outputs": [
    {
     "data": {
      "text/plain": [
       "Text(0, 0.5, 'Inclination Angle')"
      ]
     },
     "execution_count": 139,
     "metadata": {},
     "output_type": "execute_result"
    },
    {
     "data": {
      "image/png": "[encoded data removed]",
      "text/plain": [
       "<Figure size 432x288 with 2 Axes>"
      ]
     },
     "metadata": {
      "needs_background": "light"
     },
     "output_type": "display_data"
    }
   ],
   "source": [
    "plt.scatter(lambdas, incs, c=thetaError)\n",
    "plt.title(\"Theta Error\")\n",
    "plt.colorbar()\n",
    "plt.xlabel('lambdas')\n",
    "plt.ylabel('Inclination Angle')"
   ]
  },
  {
   "cell_type": "code",
   "execution_count": 140,
   "metadata": {},
   "outputs": [
    {
     "data": {
      "text/plain": [
       "Text(0, 0.5, 'Inclination Angle')"
      ]
     },
     "execution_count": 140,
     "metadata": {},
     "output_type": "execute_result"
    },
    {
     "data": {
      "image/png": "[encoded data removed]",
      "text/plain": [
       "<Figure size 432x288 with 2 Axes>"
      ]
     },
     "metadata": {
      "needs_background": "light"
     },
     "output_type": "display_data"
    }
   ],
   "source": [
    "plt.scatter(lambdas, incs, c=y0Error)\n",
    "plt.title(\"Y0 Error\")\n",
    "plt.colorbar()\n",
    "plt.xlabel('lambdas')\n",
    "plt.ylabel('Inclination Angle')"
   ]
  },
  {
   "cell_type": "code",
   "execution_count": 141,
   "metadata": {},
   "outputs": [
    {
     "data": {
      "text/plain": [
       "Text(0, 0.5, 'Inclination Angle')"
      ]
     },
     "execution_count": 141,
     "metadata": {},
     "output_type": "execute_result"
    },
    {
     "data": {
      "image/png": "[encoded data removed]",
      "text/plain": [
       "<Figure size 432x288 with 2 Axes>"
      ]
     },
     "metadata": {
      "needs_background": "light"
     },
     "output_type": "display_data"
    }
   ],
   "source": [
    "plt.scatter(lambdas, incs, c=hError)\n",
    "plt.title(\"H Error (15 Incorrect)\")\n",
    "plt.colorbar()\n",
    "plt.xlabel('lambdas')\n",
    "plt.ylabel('Inclination Angle')"
   ]
  },
  {
   "cell_type": "code",
   "execution_count": 142,
   "metadata": {},
   "outputs": [
    {
     "data": {
      "text/plain": [
       "Text(0, 0.5, 'Total Error')"
      ]
     },
     "execution_count": 142,
     "metadata": {},
     "output_type": "execute_result"
    },
    {
     "data": {
      "image/png": "[encoded data removed]",
      "text/plain": [
       "<Figure size 432x288 with 3 Axes>"
      ]
     },
     "metadata": {
      "needs_background": "light"
     },
     "output_type": "display_data"
    }
   ],
   "source": [
    "figure, axis = plt.subplots(1,3)\n",
    "figure.subplots_adjust(right=3.1)\n",
    "\n",
    "axis[0].scatter(phiP, errorTotal)\n",
    "axis[0].set_xlabel('Phi')\n",
    "axis[0].set_ylabel('Total Error')\n",
    "\n",
    "axis[1].scatter(thetaP, errorTotal)\n",
    "axis[1].set_xlabel('Theta')\n",
    "axis[1].set_ylabel('Total Error')\n",
    "\n",
    "axis[2].scatter(y0P, errorTotal)\n",
    "axis[2].set_xlabel('Y0')\n",
    "axis[2].set_ylabel('Total Error')\n"
   ]
  },
  {
   "cell_type": "code",
   "execution_count": 120,
   "metadata": {},
   "outputs": [
    {
     "data": {
      "image/png": "[encoded data removed]",
      "text/plain": [
       "<Figure size 432x288 with 1 Axes>"
      ]
     },
     "metadata": {
      "needs_background": "light"
     },
     "output_type": "display_data"
    }
   ],
   "source": [
    "fig = plt.figure()\n",
    "ax1 = fig.add_subplot(111)\n",
    "\n",
    "ax1.scatter(phiP, errorTotal,s=20, c='b', label='Phi')\n",
    "ax1.scatter(thetaP, errorTotal,s=20, c='r', label='Theta')\n",
    "ax1.scatter(y0P, errorTotal,s=20, c='g', label='Y0')\n",
    "ax1.set_ylabel('Total Error')\n",
    "plt.legend(loc='upper left');\n",
    "plt.show()\n"
   ]
  },
  {
   "cell_type": "code",
   "execution_count": 121,
   "metadata": {},
   "outputs": [
    {
     "data": {
      "text/plain": [
       "Text(0, 0.5, 'Inclination Angle')"
      ]
     },
     "execution_count": 121,
     "metadata": {},
     "output_type": "execute_result"
    },
    {
     "data": {
      "image/png": "[encoded data removed]",
      "text/plain": [
       "<Figure size 432x288 with 2 Axes>"
      ]
     },
     "metadata": {
      "needs_background": "light"
     },
     "output_type": "display_data"
    }
   ],
   "source": [
    "plt.scatter(lambdas, incs, c=errorTotal)\n",
    "plt.colorbar()\n",
    "plt.xlabel('lambdas')\n",
    "plt.ylabel('Inclination Angle')"
   ]
  },
  {
   "cell_type": "code",
   "execution_count": null,
   "metadata": {},
   "outputs": [],
   "source": [
    "figure, axis = plt.subplots(1,3)\n",
    "figure.subplots_adjust(right=3.1)\n",
    "\n",
    "axis[0].scatter(lambdas, incs)\n",
    "axis[0].set_xlabel('lambdas')\n",
    "axis[0].set_ylabel('Inclination Angle')\n",
    "\n",
    "axis[1].scatter( lambdas, highTotal )\n",
    "axis[1].set_xlabel('Lambda')\n",
    "axis[1].set_ylabel('Total Error')\n",
    "\n",
    "axis[2].scatter(highTotal, incs)\n",
    "axis[2].set_ylabel('Inclination Angle')\n",
    "axis[2].set_xlabel('Total Error')"
   ]
  },
  {
   "cell_type": "code",
   "execution_count": null,
   "metadata": {},
   "outputs": [],
   "source": [
    "ix = np.where( total_error <= 0.42 ) # 20 degrees\n",
    "print(\"Wind events less than 0.42:\", len(ix[0]))\n",
    "print( np.round((len(ix[0])/len(total_error))*100.,2),'%' )"
   ]
  },
  {
   "cell_type": "code",
   "execution_count": null,
   "metadata": {},
   "outputs": [],
   "source": [
    "ix = np.where( total_error <= 0.53 ) # 25 degrees\n",
    "print(\"Wind events less than 0.53:\", len(ix[0]))\n",
    "print( np.round((len(ix[0])/len(total_error))*100.,2),'%' )"
   ]
  },
  {
   "cell_type": "code",
   "execution_count": null,
   "metadata": {},
   "outputs": [],
   "source": [
    "vg = np.where( total_error == np.min(total_error) ) [0][0]\n",
    "print(\"Very good events:\", vg)\n",
    "print(\"Smallest total error:\", total_error[vg])\n",
    "print()\n",
    "vp = np.where( total_error == np.max(total_error) ) [0][0]\n",
    "print(\"Very poor events:\", vp)\n",
    "print(\"Worst total error:\", total_error[vp])\n",
    "print()"
   ]
  },
  {
   "cell_type": "markdown",
   "metadata": {},
   "source": [
    "#### Cases where H is incorrect"
   ]
  },
  {
   "cell_type": "code",
   "execution_count": null,
   "metadata": {},
   "outputs": [],
   "source": [
    "ix = np.where( d == 2 )[0]\n",
    "pSubset = np.array(phiDiff)[ix]\n",
    "tSubset = np.array(thetaDiff)[ix]\n",
    "ySubset = np.array(y0Diff)[ix]\n",
    "\n",
    "fig, (ax1, ax2, ax3) = plt.subplots(1, 3)\n",
    "ax1.hist(pSubset, bins=np.arange(-5,180,10))\n",
    "ax2.hist(tSubset, bins=np.arange(-5,110,10))\n",
    "ax3.hist(ySubset, bins=np.arange(-5,100,10))\n",
    "fig.subplots_adjust(right=3.1)\n",
    "ax1.set_title('Phi')\n",
    "ax2.set_title('Theta')\n",
    "ax3.set_title('Y0')\n",
    "\n",
    "ax1.set_ylim(0,25)\n",
    "ax2.set_ylim(0,50)\n",
    "ax3.set_ylim(0,40)"
   ]
  },
  {
   "cell_type": "code",
   "execution_count": null,
   "metadata": {},
   "outputs": [],
   "source": [
    "i_total_error = ( np.array(pSubset)/180. ) + ( np.array(tSubset)/180. ) + ( np.array(ySubset)/100. ) \n",
    "plt.hist(i_total_error, bins=np.arange(0, 4, .42))\n",
    "plt.title('Wind Events with 1D CNN (H incorrect)', fontsize=20)\n",
    "plt.ylabel('Occurrences', fontsize=20)\n",
    "plt.xlabel('Total Error', fontsize=20)\n",
    "\n",
    "ix = np.where(i_total_error <= 0.42)\n",
    "print(\"Wind events less than 0.42:\", len(ix[0]))\n",
    "print(\"Wind incorrect H cases:\", len(i_total_error))\n",
    "print( np.round((len(ix[0])/len(i_total_error))*100.,2),'%' )"
   ]
  },
  {
   "cell_type": "markdown",
   "metadata": {},
   "source": [
    "#### Cases when H is correct"
   ]
  },
  {
   "cell_type": "code",
   "execution_count": null,
   "metadata": {},
   "outputs": [],
   "source": [
    "ix = np.where( d == 0 )[0]\n",
    "pSubset = np.array(phiDiff)[ix]\n",
    "tSubset = np.array(thetaDiff)[ix]\n",
    "ySubset = np.array(y0Diff)[ix]\n",
    "\n",
    "fig, (ax1, ax2, ax3) = plt.subplots(1, 3)\n",
    "ax1.hist(pSubset, bins=np.arange(-5,180,10))\n",
    "ax2.hist(tSubset, bins=np.arange(-5,110,10))\n",
    "ax3.hist(ySubset, bins=np.arange(-5,100,10))\n",
    "fig.subplots_adjust(right=3.1)\n",
    "ax1.set_title('Phi')\n",
    "ax2.set_title('Theta')\n",
    "ax3.set_title('Y0')\n",
    "\n",
    "ax1.set_ylim(0,25)\n",
    "ax2.set_ylim(0,50)\n",
    "ax3.set_ylim(0,40)"
   ]
  },
  {
   "cell_type": "code",
   "execution_count": null,
   "metadata": {},
   "outputs": [],
   "source": [
    "c_total_error = ( np.array(pSubset)/180. ) + ( np.array(tSubset)/180. ) + ( np.array(ySubset)/100. ) \n",
    "plt.hist(c_total_error, bins=np.arange(0, 4, .42))\n",
    "plt.title('Wind Events with 1D CNN (H correct)', fontsize=20)\n",
    "plt.ylabel('Occurrences', fontsize=20)\n",
    "plt.xlabel('Total Error', fontsize=20)\n",
    "\n",
    "ix = np.where(c_total_error <= 0.42)\n",
    "print(\"Wind events less than 0.42:\", len(ix[0]))\n",
    "print(\"Wind incorrect H cases:\", len(c_total_error))\n",
    "print( np.round((len(ix[0])/len(c_total_error))*100.,2),'%' )"
   ]
  },
  {
   "cell_type": "markdown",
   "metadata": {},
   "source": [
    "#### Visualize the event"
   ]
  },
  {
   "cell_type": "code",
   "execution_count": null,
   "metadata": {},
   "outputs": [],
   "source": [
    "time, bx, by, bz = readWind( files[vg] )\n",
    "\n",
    "n = int(np.floor(bx.shape[0] * (1./8.)))\n",
    "bxx = smooth(bx, window_len=n, window='hamming')\n",
    "byy = smooth(by, window_len=n, window='hamming')\n",
    "bzz = smooth(bz, window_len=n, window='hamming')\n",
    "\n",
    "fig, (ax1, ax2, ax3) = plt.subplots(3, 1)\n",
    "ax1.plot(bx)\n",
    "ax2.plot(by)\n",
    "ax3.plot(bz)\n",
    "\n",
    "ax1.set_ylabel('Bx')\n",
    "ax2.set_ylabel('By')\n",
    "ax3.set_ylabel('Bz')\n",
    "\n",
    "ax1.plot(bxx, c='red')\n",
    "ax2.plot(byy, c='red')\n",
    "ax3.plot(bzz, c='red')"
   ]
  },
  {
   "cell_type": "code",
   "execution_count": null,
   "metadata": {},
   "outputs": [],
   "source": [
    "print(\"Good:\", files[vg])\n",
    "print(\"Poor:\", files[vp])"
   ]
  },
  {
   "cell_type": "code",
   "execution_count": null,
   "metadata": {},
   "outputs": [],
   "source": [
    "matching = [s for s in windFiles if \"_2000_332\" in s]\n",
    "testFile = matching[0]\n",
    "print(testFile)"
   ]
  },
  {
   "cell_type": "markdown",
   "metadata": {},
   "source": [
    "#### Predictions for good event"
   ]
  },
  {
   "cell_type": "code",
   "execution_count": null,
   "metadata": {},
   "outputs": [],
   "source": [
    "#time, bx, by, bz = readWind( files[vg] )\n",
    "#file = testFile\n",
    "file = '/home/narock/data/fluxropes_wind/mc_2009_273.29097_Fr_346.500_-1_NSN_306.000_22.000_-0.007_0.039.csv'\n",
    "time, bx, by, bz = readWind( file )\n",
    "\n",
    "# NN input\n",
    "x = np.zeros( shape=(1,50,3) )\n",
    "\n",
    "# moving averages to smooth Wind            \n",
    "newX = moving_average(bx, 5)\n",
    "newY = moving_average(by, 5)\n",
    "newZ = moving_average(bz, 5)\n",
    "            \n",
    "xx = np.arange(0, len(newX), 1)\n",
    "\n",
    "fx = interpolate.interp1d(xx, newX)\n",
    "fy = interpolate.interp1d(xx, newY)\n",
    "fz = interpolate.interp1d(xx, newZ)\n",
    "\n",
    "xnew = np.linspace(0, len(newX)-1, num=50) # linspace included endpoint, arange does not\n",
    "ynew = np.linspace(0, len(newY)-1, num=50)\n",
    "znew = np.linspace(0, len(newZ)-1, num=50)\n",
    "            \n",
    "newX = fx(xnew)   \n",
    "newY = fy(ynew)\n",
    "newZ = fz(znew)\n",
    "        \n",
    "x[0,:,0] = newX\n",
    "x[0,:,1] = newY\n",
    "x[0,:,2] = newZ\n",
    "\n",
    "predictions = model.predict(x)\n",
    "phiPredictions = predictions[0][0]\n",
    "thetaPredictions = predictions[1][0]\n",
    "y0Predictions = predictions[2][0]\n",
    "hPredictions = predictions[3][0]\n",
    "\n",
    "phiP, thetaP, y0P, hP = getPredictions( phiPredictions, thetaPredictions, y0Predictions, hPredictions )\n",
    "    \n",
    "#file = files[vg]\n",
    "parts = file.split(\"/\")\n",
    "fname = parts[-1]\n",
    "parts = fname.split(\"_\")\n",
    "tp = parts[3]\n",
    "phi = float(parts[7])\n",
    "theta = float(parts[8])\n",
    "y0 = float(parts[9])\n",
    "radius = float(parts[10][:-4])\n",
    "y0 = np.abs( (y0/radius)*100. )\n",
    "h = int(parts[5])\n",
    "\n",
    "print( fname )\n",
    "print( \"Wind catalogue:\", phi, theta, np.round(y0,2), h )\n",
    "print( \"Predictions:\", np.round(phiP,2), np.round(thetaP,2), np.round(y0P*100.,2), hP )"
   ]
  },
  {
   "cell_type": "markdown",
   "metadata": {},
   "source": [
    "#### Wind event where we did very poorly"
   ]
  },
  {
   "cell_type": "code",
   "execution_count": null,
   "metadata": {},
   "outputs": [],
   "source": [
    "time, bx, by, bz = readWind( files[vp] )\n",
    "\n",
    "n = int(np.floor(bx.shape[0] * (1./6.)))\n",
    "bxx = smooth(bx, window_len=n, window='hamming')\n",
    "byy = smooth(by, window_len=n, window='hamming')\n",
    "bzz = smooth(bz, window_len=n, window='hamming')\n",
    "\n",
    "fig, (ax1, ax2, ax3) = plt.subplots(3, 1)\n",
    "ax1.plot(bx)\n",
    "ax2.plot(by)\n",
    "ax3.plot(bz)\n",
    "\n",
    "ax1.set_ylabel('Bx')\n",
    "ax2.set_ylabel('By')\n",
    "ax3.set_ylabel('Bz')\n",
    "\n",
    "ax1.plot(bxx, c='red')\n",
    "ax2.plot(byy, c='red')\n",
    "ax3.plot(bzz, c='red')"
   ]
  },
  {
   "cell_type": "markdown",
   "metadata": {},
   "source": [
    "#### Predictions for this event"
   ]
  },
  {
   "cell_type": "code",
   "execution_count": null,
   "metadata": {},
   "outputs": [],
   "source": [
    "time, bx, by, bz = readWind( files[vp] )\n",
    "\n",
    "# NN input\n",
    "x = np.zeros( shape=(1,50,3) )\n",
    "\n",
    "# NN input\n",
    "x = np.zeros( shape=(1,50,3) )\n",
    "\n",
    "# moving averages to smooth Wind            \n",
    "newX = moving_average(bx, 5)\n",
    "newY = moving_average(by, 5)\n",
    "newZ = moving_average(bz, 5)\n",
    "            \n",
    "xx = np.arange(0, len(newX), 1)\n",
    "\n",
    "fx = interpolate.interp1d(xx, newX)\n",
    "fy = interpolate.interp1d(xx, newY)\n",
    "fz = interpolate.interp1d(xx, newZ)\n",
    "\n",
    "xnew = np.linspace(0, len(newX)-1, num=50) # linspace included endpoint, arange does not\n",
    "ynew = np.linspace(0, len(newY)-1, num=50)\n",
    "znew = np.linspace(0, len(newZ)-1, num=50)\n",
    "            \n",
    "newX = fx(xnew)   \n",
    "newY = fy(ynew)\n",
    "newZ = fz(znew)\n",
    "        \n",
    "x[0,:,0] = newX\n",
    "x[0,:,1] = newY\n",
    "x[0,:,2] = newZ\n",
    "predictions = model.predict(x)\n",
    "phiPredictions = predictions[0][0]\n",
    "thetaPredictions = predictions[1][0]\n",
    "y0Predictions = predictions[2][0]\n",
    "hPredictions = predictions[3][0]\n",
    "\n",
    "phiP, thetaP, y0P, hP = getPredictions( phiPredictions, thetaPredictions, y0Predictions, hPredictions )\n",
    "\n",
    "file = files[vp]\n",
    "parts = file.split(\"/\")\n",
    "fname = parts[-1]\n",
    "parts = fname.split(\"_\")\n",
    "tp = parts[3]\n",
    "phi = float(parts[7])\n",
    "theta = float(parts[8])\n",
    "y0 = float(parts[9])\n",
    "radius = float(parts[10][:-4])\n",
    "y0 = np.abs( (y0/radius)*100. )\n",
    "h = int(parts[5])\n",
    "        \n",
    "print( fname )\n",
    "print( \"Wind catalogue:\", phi, theta, np.round(y0,2), h )\n",
    "print( \"Predictions:\", np.round(phiP,2), np.round(thetaP,2), np.round(y0P*100.,2), hP )"
   ]
  },
  {
   "cell_type": "markdown",
   "metadata": {},
   "source": [
    "#### What the neural network thinks it's seeing"
   ]
  },
  {
   "cell_type": "code",
   "execution_count": null,
   "metadata": {},
   "outputs": [],
   "source": [
    "f = '/home/narock/data/fluxropes_cc/fluxrope_cc_B10_65_50_60_1.csv'\n",
    "dataX, p, t, y0, h = readCSV([f])"
   ]
  },
  {
   "cell_type": "code",
   "execution_count": null,
   "metadata": {},
   "outputs": [],
   "source": [
    "fig, (ax1, ax2, ax3) = plt.subplots(3, 1)\n",
    "ax1.plot(dataX[0,:,0])\n",
    "ax2.plot(dataX[0,:,1])\n",
    "ax3.plot(dataX[0,:,2])\n",
    "\n",
    "ax1.set_ylabel('Bx')\n",
    "ax2.set_ylabel('By')\n",
    "ax3.set_ylabel('Bz')\n",
    "\n",
    "ax1.plot(bx, c='red')\n",
    "ax2.plot(by, c='red')\n",
    "ax3.plot(bz, c='red')"
   ]
  },
  {
   "cell_type": "markdown",
   "metadata": {},
   "source": [
    "#### \"Best\" and \"Worst\" fits"
   ]
  },
  {
   "cell_type": "code",
   "execution_count": null,
   "metadata": {},
   "outputs": [],
   "source": [
    "sorted_indicies = np.argsort(total_error)\n",
    "for index in sorted_indicies:\n",
    "    f = files[index]\n",
    "    parts = f.split(\"/\")\n",
    "    line = parts[-1] + \",\" + str( round(total_error[index],4) )\n",
    "    print(line)"
   ]
  },
  {
   "cell_type": "code",
   "execution_count": null,
   "metadata": {},
   "outputs": [],
   "source": [
    "rmsX = []\n",
    "rmsY = []\n",
    "rmsZ = []\n",
    "for index in sorted_indicies:\n",
    "    f = files[index]\n",
    "    time, bx, by, bz = readWind( f )\n",
    "    n = bx.shape[0]\n",
    "    rmsX.append( np.sqrt( np.sum(bx**2)/n ) )\n",
    "    rmsY.append( np.sqrt( np.sum(by**2)/n ) )\n",
    "    rmsZ.append( np.sqrt( np.sum(bz**2)/n ) )\n",
    "    "
   ]
  },
  {
   "cell_type": "code",
   "execution_count": null,
   "metadata": {},
   "outputs": [],
   "source": [
    "plt.scatter( rmsX, total_error[sorted_indicies]) "
   ]
  },
  {
   "cell_type": "code",
   "execution_count": null,
   "metadata": {},
   "outputs": [],
   "source": [
    "plt.scatter( rmsY, total_error[sorted_indicies] ) "
   ]
  },
  {
   "cell_type": "code",
   "execution_count": null,
   "metadata": {},
   "outputs": [],
   "source": [
    "plt.scatter( rmsZ, total_error[sorted_indicies] ) "
   ]
  },
  {
   "cell_type": "code",
   "execution_count": null,
   "metadata": {},
   "outputs": [],
   "source": [
    "plt.scatter( np.array(rmsX)+np.array(rmsY)+np.array(rmsZ), total_error[sorted_indicies] ) "
   ]
  },
  {
   "cell_type": "code",
   "execution_count": null,
   "metadata": {},
   "outputs": [],
   "source": [
    "phis = []\n",
    "thetas = []\n",
    "y0s = []\n",
    "\n",
    "for index in sorted_indicies:\n",
    "    f = files[index]\n",
    "    parts = f.split(\"/\")\n",
    "    fname = parts[-1]\n",
    "    parts = fname.split(\"_\")\n",
    "    tp = parts[3]\n",
    "    phi = float(parts[7])\n",
    "    theta = float(parts[8])\n",
    "    y0 = float(parts[9])\n",
    "    radius = float(parts[10][:-4])\n",
    "    y0 = np.abs( (y0/radius)*100. )\n",
    "    h = int(parts[5])\n",
    "    \n",
    "    phis.append(phi)\n",
    "    thetas.append(theta)\n",
    "    y0s.append(y0)"
   ]
  },
  {
   "cell_type": "code",
   "execution_count": null,
   "metadata": {},
   "outputs": [],
   "source": [
    "plt.scatter(phis, thetas, c=total_error[sorted_indicies], cmap='Set1')\n",
    "plt.colorbar()"
   ]
  },
  {
   "cell_type": "code",
   "execution_count": null,
   "metadata": {},
   "outputs": [],
   "source": [
    "plt.scatter(phis, y0s, c=total_error[sorted_indicies], cmap='Set1')\n",
    "plt.colorbar()"
   ]
  },
  {
   "cell_type": "code",
   "execution_count": null,
   "metadata": {},
   "outputs": [],
   "source": [
    "plt.scatter(thetas, y0s, c=total_error[sorted_indicies], cmap='Set1')\n",
    "plt.colorbar()"
   ]
  },
  {
   "cell_type": "code",
   "execution_count": null,
   "metadata": {},
   "outputs": [],
   "source": [
    "plt.scatter(rmsX, rmsY, c=total_error[sorted_indicies])\n",
    "plt.colorbar()"
   ]
  },
  {
   "cell_type": "code",
   "execution_count": null,
   "metadata": {},
   "outputs": [],
   "source": [
    "plt.scatter(rmsX, rmsZ, c=total_error[sorted_indicies])\n",
    "plt.colorbar()"
   ]
  },
  {
   "cell_type": "code",
   "execution_count": null,
   "metadata": {},
   "outputs": [],
   "source": [
    "plt.scatter(rmsY, rmsZ, c=total_error[sorted_indicies])\n",
    "plt.colorbar()"
   ]
  },
  {
   "cell_type": "code",
   "execution_count": null,
   "metadata": {},
   "outputs": [],
   "source": [
    "plt.scatter( y0s, total_error[sorted_indicies] )"
   ]
  },
  {
   "cell_type": "code",
   "execution_count": null,
   "metadata": {},
   "outputs": [],
   "source": [
    "# very good case\n",
    "file = files[vg]\n",
    "print(file)\n",
    "time, bx, by, bz = readWind( file )\n",
    "\n",
    "# moving averages to smooth Wind            \n",
    "newX = moving_average(bx, 5)\n",
    "newY = moving_average(by, 5)\n",
    "newZ = moving_average(bz, 5)\n",
    "            \n",
    "xx = np.arange(0, len(newX), 1)\n",
    "\n",
    "fx = interpolate.interp1d(xx, newX)\n",
    "fy = interpolate.interp1d(xx, newY)\n",
    "fz = interpolate.interp1d(xx, newZ)\n",
    "\n",
    "xnew = np.linspace(0, len(newX)-1, num=50) # linspace included endpoint, arange does not\n",
    "ynew = np.linspace(0, len(newY)-1, num=50)\n",
    "znew = np.linspace(0, len(newZ)-1, num=50)\n",
    "            \n",
    "bx = fx(xnew)   \n",
    "by = fy(ynew)\n",
    "bz = fz(znew)\n",
    "\n",
    "fig, (ax1, ax2, ax3) = plt.subplots(1, 3)\n",
    "ax1.plot(bx,by)\n",
    "ax2.plot(bx,bz)\n",
    "ax3.plot(bz,by)\n",
    "fig.subplots_adjust(right=3.1)\n",
    "ax1.set_title('bx-by', fontsize=25)\n",
    "ax2.set_title('bx-bz', fontsize=25)\n",
    "ax3.set_title('bz-by', fontsize=25)\n",
    "\n",
    "ax1.set_xlim(-1,1)\n",
    "ax2.set_xlim(-1,1)\n",
    "ax3.set_xlim(-1,1)\n",
    "ax1.set_ylim(-1,1)\n",
    "ax2.set_ylim(-1,1)\n",
    "ax3.set_ylim(-1,1)\n",
    "\n",
    "ax1.set_xticks([-1,-0.5,0,0.5,1])\n",
    "ax2.set_xticks([-1,-0.5,0,0.5,1])\n",
    "ax3.set_xticks([-1,-0.5,0,0.5,1])\n",
    "ax1.set_yticks([-1,-0.5,0,0.5,1])\n",
    "ax2.set_yticks([-1,-0.5,0,0.5,1])\n",
    "ax3.set_yticks([-1,-0.5,0,0.5,1])\n",
    "\n",
    "ax1.tick_params(axis='x', labelsize=15)\n",
    "ax2.tick_params(axis='x', labelsize=15)\n",
    "ax3.tick_params(axis='x', labelsize=15)\n",
    "\n",
    "ax1.tick_params(axis='y', labelsize=15)\n",
    "ax2.tick_params(axis='y', labelsize=15)\n",
    "ax3.tick_params(axis='y', labelsize=15)"
   ]
  },
  {
   "cell_type": "code",
   "execution_count": null,
   "metadata": {},
   "outputs": [],
   "source": [
    "# Wind catalogue: 183.0 -62.0 50.59 -1\n",
    "file = '/home/narock/data/fluxropes_cc/fluxrope_cc_B10_185_-60_50_-1.csv'\n",
    "\n",
    "x, p, t, y0, h = readCSV( [file] )\n",
    "    \n",
    "bx = x[0,:,0]\n",
    "by = x[0,:,1]\n",
    "bz = x[0,:,2]\n",
    "\n",
    "fig, (ax1, ax2, ax3) = plt.subplots(1, 3)\n",
    "ax1.plot(bx,by)\n",
    "ax2.plot(bx,bz)\n",
    "ax3.plot(bz,by)\n",
    "fig.subplots_adjust(right=3.1)\n",
    "ax1.set_title('bx-by', fontsize=25)\n",
    "ax2.set_title('bx-bz', fontsize=25)\n",
    "ax3.set_title('bz-by', fontsize=25)\n",
    "\n",
    "ax1.set_xlim(-1,1)\n",
    "ax2.set_xlim(-1,1)\n",
    "ax3.set_xlim(-1,1)\n",
    "ax1.set_ylim(-1,1)\n",
    "ax2.set_ylim(-1,1)\n",
    "ax3.set_ylim(-1,1)\n",
    "\n",
    "ax1.set_xticks([-1,-0.5,0,0.5,1])\n",
    "ax2.set_xticks([-1,-0.5,0,0.5,1])\n",
    "ax3.set_xticks([-1,-0.5,0,0.5,1])\n",
    "ax1.set_yticks([-1,-0.5,0,0.5,1])\n",
    "ax2.set_yticks([-1,-0.5,0,0.5,1])\n",
    "ax3.set_yticks([-1,-0.5,0,0.5,1])\n",
    "\n",
    "ax1.tick_params(axis='x', labelsize=15)\n",
    "ax2.tick_params(axis='x', labelsize=15)\n",
    "ax3.tick_params(axis='x', labelsize=15)\n",
    "\n",
    "ax1.tick_params(axis='y', labelsize=15)\n",
    "ax2.tick_params(axis='y', labelsize=15)\n",
    "ax3.tick_params(axis='y', labelsize=15)"
   ]
  },
  {
   "cell_type": "code",
   "execution_count": null,
   "metadata": {},
   "outputs": [],
   "source": [
    "# Predictions: 184.77 -64.86 46.2 -1.0\n",
    "file = '/home/narock/data/fluxropes_cc/fluxrope_cc_B10_185_-65_45_-1.csv'\n",
    "\n",
    "x, p, t, y0, h = readCSV( [file] )\n",
    "    \n",
    "bx = x[0,:,0]\n",
    "by = x[0,:,1]\n",
    "bz = x[0,:,2]\n",
    "\n",
    "fig, (ax1, ax2, ax3) = plt.subplots(1, 3)\n",
    "ax1.plot(bx,by)\n",
    "ax2.plot(bx,bz)\n",
    "ax3.plot(bz,by)\n",
    "fig.subplots_adjust(right=3.1)\n",
    "ax1.set_title('bx-by', fontsize=25)\n",
    "ax2.set_title('bx-bz', fontsize=25)\n",
    "ax3.set_title('bz-by', fontsize=25)\n",
    "\n",
    "ax1.set_xlim(-1,1)\n",
    "ax2.set_xlim(-1,1)\n",
    "ax3.set_xlim(-1,1)\n",
    "ax1.set_ylim(-1,1)\n",
    "ax2.set_ylim(-1,1)\n",
    "ax3.set_ylim(-1,1)\n",
    "\n",
    "ax1.set_xticks([-1,-0.5,0,0.5,1])\n",
    "ax2.set_xticks([-1,-0.5,0,0.5,1])\n",
    "ax3.set_xticks([-1,-0.5,0,0.5,1])\n",
    "ax1.set_yticks([-1,-0.5,0,0.5,1])\n",
    "ax2.set_yticks([-1,-0.5,0,0.5,1])\n",
    "ax3.set_yticks([-1,-0.5,0,0.5,1])\n",
    "\n",
    "ax1.tick_params(axis='x', labelsize=15)\n",
    "ax2.tick_params(axis='x', labelsize=15)\n",
    "ax3.tick_params(axis='x', labelsize=15)\n",
    "\n",
    "ax1.tick_params(axis='y', labelsize=15)\n",
    "ax2.tick_params(axis='y', labelsize=15)\n",
    "ax3.tick_params(axis='y', labelsize=15)"
   ]
  },
  {
   "cell_type": "code",
   "execution_count": null,
   "metadata": {},
   "outputs": [],
   "source": [
    "# very poor case\n",
    "file = files[vp]\n",
    "print(file)\n",
    "time, bx, by, bz = readWind( file )\n",
    "\n",
    "# moving averages to smooth Wind            \n",
    "newX = moving_average(bx, 5)\n",
    "newY = moving_average(by, 5)\n",
    "newZ = moving_average(bz, 5)\n",
    "            \n",
    "xx = np.arange(0, len(newX), 1)\n",
    "\n",
    "fx = interpolate.interp1d(xx, newX)\n",
    "fy = interpolate.interp1d(xx, newY)\n",
    "fz = interpolate.interp1d(xx, newZ)\n",
    "\n",
    "xnew = np.linspace(0, len(newX)-1, num=50) # linspace included endpoint, arange does not\n",
    "ynew = np.linspace(0, len(newY)-1, num=50)\n",
    "znew = np.linspace(0, len(newZ)-1, num=50)\n",
    "            \n",
    "bx = fx(xnew)   \n",
    "by = fy(ynew)\n",
    "bz = fz(znew)\n",
    "\n",
    "fig, (ax1, ax2, ax3) = plt.subplots(1, 3)\n",
    "ax1.plot(bx,by)\n",
    "ax2.plot(bx,bz)\n",
    "ax3.plot(bz,by)\n",
    "fig.subplots_adjust(right=3.1)\n",
    "ax1.set_title('bx-by', fontsize=25)\n",
    "ax2.set_title('bx-bz', fontsize=25)\n",
    "ax3.set_title('bz-by', fontsize=25)\n",
    "\n",
    "ax1.set_xlim(-1,1)\n",
    "ax2.set_xlim(-1,1)\n",
    "ax3.set_xlim(-1,1)\n",
    "ax1.set_ylim(-1,1)\n",
    "ax2.set_ylim(-1,1)\n",
    "ax3.set_ylim(-1,1)\n",
    "\n",
    "ax1.set_xticks([-1,-0.5,0,0.5,1])\n",
    "ax2.set_xticks([-1,-0.5,0,0.5,1])\n",
    "ax3.set_xticks([-1,-0.5,0,0.5,1])\n",
    "ax1.set_yticks([-1,-0.5,0,0.5,1])\n",
    "ax2.set_yticks([-1,-0.5,0,0.5,1])\n",
    "ax3.set_yticks([-1,-0.5,0,0.5,1])\n",
    "\n",
    "ax1.tick_params(axis='x', labelsize=15)\n",
    "ax2.tick_params(axis='x', labelsize=15)\n",
    "ax3.tick_params(axis='x', labelsize=15)\n",
    "\n",
    "ax1.tick_params(axis='y', labelsize=15)\n",
    "ax2.tick_params(axis='y', labelsize=15)\n",
    "ax3.tick_params(axis='y', labelsize=15)"
   ]
  },
  {
   "cell_type": "code",
   "execution_count": null,
   "metadata": {},
   "outputs": [],
   "source": [
    "# Wind catalogue: 217.0 -71.0 12.87 -1\n",
    "file = '/home/narock/data/fluxropes_cc/fluxrope_cc_B10_215_-70_10_-1.csv'\n",
    "\n",
    "x, p, t, y0, h = readCSV( [file] )\n",
    "    \n",
    "bx = x[0,:,0]\n",
    "by = x[0,:,1]\n",
    "bz = x[0,:,2]\n",
    "\n",
    "fig, (ax1, ax2, ax3) = plt.subplots(1, 3)\n",
    "ax1.plot(bx,by)\n",
    "ax2.plot(bx,bz)\n",
    "ax3.plot(bz,by)\n",
    "fig.subplots_adjust(right=3.1)\n",
    "ax1.set_title('bx-by', fontsize=25)\n",
    "ax2.set_title('bx-bz', fontsize=25)\n",
    "ax3.set_title('bz-by', fontsize=25)\n",
    "\n",
    "ax1.set_xlim(-1,1)\n",
    "ax2.set_xlim(-1,1)\n",
    "ax3.set_xlim(-1,1)\n",
    "ax1.set_ylim(-1,1)\n",
    "ax2.set_ylim(-1,1)\n",
    "ax3.set_ylim(-1,1)\n",
    "\n",
    "ax1.set_xticks([-1,-0.5,0,0.5,1])\n",
    "ax2.set_xticks([-1,-0.5,0,0.5,1])\n",
    "ax3.set_xticks([-1,-0.5,0,0.5,1])\n",
    "ax1.set_yticks([-1,-0.5,0,0.5,1])\n",
    "ax2.set_yticks([-1,-0.5,0,0.5,1])\n",
    "ax3.set_yticks([-1,-0.5,0,0.5,1])\n",
    "\n",
    "ax1.tick_params(axis='x', labelsize=15)\n",
    "ax2.tick_params(axis='x', labelsize=15)\n",
    "ax3.tick_params(axis='x', labelsize=15)\n",
    "\n",
    "ax1.tick_params(axis='y', labelsize=15)\n",
    "ax2.tick_params(axis='y', labelsize=15)\n",
    "ax3.tick_params(axis='y', labelsize=15)"
   ]
  },
  {
   "cell_type": "code",
   "execution_count": null,
   "metadata": {},
   "outputs": [],
   "source": [
    "# Predictions: 63.89 47.4 57.19 1.0\n",
    "file = '/home/narock/data/fluxropes_cc/fluxrope_cc_B10_60_50_60_1.csv'\n",
    "\n",
    "x, p, t, y0, h = readCSV( [file] )\n",
    "    \n",
    "bx = x[0,:,0]\n",
    "by = x[0,:,1]\n",
    "bz = x[0,:,2]\n",
    "\n",
    "fig, (ax1, ax2, ax3) = plt.subplots(1, 3)\n",
    "ax1.plot(bx,by)\n",
    "ax2.plot(bx,bz)\n",
    "ax3.plot(bz,by)\n",
    "fig.subplots_adjust(right=3.1)\n",
    "ax1.set_title('bx-by', fontsize=25)\n",
    "ax2.set_title('bx-bz', fontsize=25)\n",
    "ax3.set_title('bz-by', fontsize=25)\n",
    "\n",
    "ax1.set_xlim(-1,1)\n",
    "ax2.set_xlim(-1,1)\n",
    "ax3.set_xlim(-1,1)\n",
    "ax1.set_ylim(-1,1)\n",
    "ax2.set_ylim(-1,1)\n",
    "ax3.set_ylim(-1,1)\n",
    "\n",
    "ax1.set_xticks([-1,-0.5,0,0.5,1])\n",
    "ax2.set_xticks([-1,-0.5,0,0.5,1])\n",
    "ax3.set_xticks([-1,-0.5,0,0.5,1])\n",
    "ax1.set_yticks([-1,-0.5,0,0.5,1])\n",
    "ax2.set_yticks([-1,-0.5,0,0.5,1])\n",
    "ax3.set_yticks([-1,-0.5,0,0.5,1])\n",
    "\n",
    "ax1.tick_params(axis='x', labelsize=15)\n",
    "ax2.tick_params(axis='x', labelsize=15)\n",
    "ax3.tick_params(axis='x', labelsize=15)\n",
    "\n",
    "ax1.tick_params(axis='y', labelsize=15)\n",
    "ax2.tick_params(axis='y', labelsize=15)\n",
    "ax3.tick_params(axis='y', labelsize=15)"
   ]
  },
  {
   "cell_type": "code",
   "execution_count": null,
   "metadata": {},
   "outputs": [],
   "source": [
    "y = np.array( phiDiff )\n",
    "x = np.array( total_error )\n",
    "plt.scatter( x[sorted_indicies], y[sorted_indicies] )"
   ]
  },
  {
   "cell_type": "code",
   "execution_count": null,
   "metadata": {},
   "outputs": [],
   "source": [
    "y = np.array( thetaDiff )\n",
    "x = np.array( total_error )\n",
    "plt.scatter( x[sorted_indicies], y[sorted_indicies] )"
   ]
  },
  {
   "cell_type": "code",
   "execution_count": null,
   "metadata": {},
   "outputs": [],
   "source": [
    "y = np.array( y0Diff )\n",
    "x = np.array( total_error )\n",
    "plt.scatter( x[sorted_indicies], y[sorted_indicies] )"
   ]
  },
  {
   "cell_type": "code",
   "execution_count": null,
   "metadata": {},
   "outputs": [],
   "source": [
    "from scipy.stats import circstd\n",
    "from scipy import signal\n",
    "from scipy import interpolate\n",
    "\n",
    "def actualAndPredictions(tpIn, allTypes=False):\n",
    "\n",
    "    types = []\n",
    "    phiPred = []\n",
    "    thetaPred = []\n",
    "    y0Pred = []\n",
    "    hPred = []\n",
    "    files = []\n",
    "    \n",
    "    count = 0\n",
    "    \n",
    "    for file in windFiles:\n",
    "    \n",
    "        # fit values from filename\n",
    "        parts = file.split(\"/\")\n",
    "        fname = parts[-1]\n",
    "        parts = fname.split(\"_\")\n",
    "        tp = parts[3]\n",
    "        phi = float(parts[7])\n",
    "        theta = float(parts[8])\n",
    "        y0 = float(parts[9])\n",
    "        radius = float(parts[10][:-4])\n",
    "        y0 = np.abs( (y0/radius)*100. )\n",
    "        h = int(parts[5])\n",
    "    \n",
    "        if ( (tp == tpIn) or (allTypes == True) ):\n",
    "        \n",
    "            # read the Wind data\n",
    "            time, bx, by, bz = readWind( file )\n",
    " \n",
    "            # NN input\n",
    "            x = np.zeros( shape=(1,50,3) )\n",
    "\n",
    "            # moving averages to smooth Wind            \n",
    "            newX = moving_average(bx, 5)\n",
    "            newY = moving_average(by, 5)\n",
    "            newZ = moving_average(bz, 5)\n",
    "            \n",
    "            xx = np.arange(0, len(newX), 1)\n",
    "\n",
    "            fx = interpolate.interp1d(xx, newX)\n",
    "            fy = interpolate.interp1d(xx, newY)\n",
    "            fz = interpolate.interp1d(xx, newZ)\n",
    "\n",
    "            xnew = np.linspace(0, len(newX)-1, num=50) # linspace included endpoint, arange does not\n",
    "            ynew = np.linspace(0, len(newY)-1, num=50)\n",
    "            znew = np.linspace(0, len(newZ)-1, num=50)\n",
    "            \n",
    "            newX = fx(xnew)   \n",
    "            newY = fy(ynew)\n",
    "            newZ = fz(znew)\n",
    "        \n",
    "            x[0,:,0] = newX\n",
    "            x[0,:,1] = newY\n",
    "            x[0,:,2] = newZ\n",
    "                \n",
    "            predictions = model.predict(x)\n",
    "            phiPredictions = predictions[0][0]\n",
    "            thetaPredictions = predictions[1][0]\n",
    "            y0Predictions = predictions[2][0]\n",
    "            hPredictions = predictions[3][0]\n",
    "\n",
    "            phiP, thetaP, y0P, hP = getPredictions( phiPredictions, thetaPredictions, y0Predictions, \\\n",
    "                                                       hPredictions )\n",
    "            \n",
    "            hd = getDifference( hP, h, phi=False)\n",
    "            #if ( hd == 2.0 ):\n",
    "\n",
    "            #hDiff.append( getDifference( hP, h, phi=False) )\n",
    "            files.append(file)\n",
    "                        \n",
    "            types.append( tp )\n",
    "            #phiDiff.append( getDifference( phiP, phi, phi=True) )\n",
    "            #thetaDiff.append( getDifference( thetaP, theta, phi=False) )\n",
    "            #y0Diff.append( getDifference( np.abs(y0P*100.), np.abs(y0), phi=False) )\n",
    "            \n",
    "            #test = getDifference( np.abs(y0P*100.), np.abs(y0))\n",
    "            #if ( test > 100. ):\n",
    "            #    print(np.abs(y0P*100.), np.abs(y0))\n",
    "            \n",
    "            phiPred.append( phiP )\n",
    "            thetaPred.append( thetaP )\n",
    "            y0Pred.append( y0P )\n",
    "            hPred.append( hP )\n",
    "            \n",
    "    return phiPred, thetaPred, y0Pred, hPred, files"
   ]
  },
  {
   "cell_type": "code",
   "execution_count": null,
   "metadata": {},
   "outputs": [],
   "source": [
    "phiPred, thetaPred, y0Pred, hPred, files = actualAndPredictions('Fr')"
   ]
  },
  {
   "cell_type": "code",
   "execution_count": null,
   "metadata": {},
   "outputs": [],
   "source": [
    "y = np.array( thetaPred )\n",
    "x = np.array( phiPred )\n",
    "c = np.array( total_error )\n",
    "plt.scatter( x[sorted_indicies], y[sorted_indicies], s=c*100 )"
   ]
  },
  {
   "cell_type": "code",
   "execution_count": null,
   "metadata": {},
   "outputs": [],
   "source": [
    "layers = ['conv1d']\n",
    "\n",
    "for layer in model.layers: \n",
    "        \n",
    "    if (layer.name in layers):\n",
    "        w, b = layer.get_weights()\n",
    "        print( w[0][0] )\n",
    "        print( w[0][1] )\n",
    "        print( w[0][2] )"
   ]
  },
  {
   "cell_type": "code",
   "execution_count": null,
   "metadata": {},
   "outputs": [],
   "source": []
  }
 ],
 "metadata": {
  "kernelspec": {
   "display_name": "Python [conda env:ropenet2]",
   "language": "python",
   "name": "conda-env-ropenet2-py"
  },
  "language_info": {
   "codemirror_mode": {
    "name": "ipython",
    "version": 3
   },
   "file_extension": ".py",
   "mimetype": "text/x-python",
   "name": "python",
   "nbconvert_exporter": "python",
   "pygments_lexer": "ipython3",
   "version": "3.9.13"
  }
 },
 "nbformat": 4,
 "nbformat_minor": 4
}
